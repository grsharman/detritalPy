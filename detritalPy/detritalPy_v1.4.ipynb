{
 "cells": [
  {
   "cell_type": "markdown",
   "metadata": {},
   "source": [
    "# <center>detritalPy: A Python-based Toolset for Visualizing and Analyzing Detrital Geo-Thermochronologic Data</center>"
   ]
  },
  {
   "cell_type": "markdown",
   "metadata": {},
   "source": [
    "## <center>Glenn R. Sharman, Jonathan P. Sharman, and Zoltan Sylvester</center>"
   ]
  },
  {
   "cell_type": "markdown",
   "metadata": {},
   "source": [
    "### <center>Jypyter Notebook Version 1.4</center>\n",
    "<center><i>detritalPy v1.4.2 or later recommended</i></center>"
   ]
  },
  {
   "cell_type": "markdown",
   "metadata": {},
   "source": [
    "### I. Import required modules\n",
    "This step must by run initially, but then does not need to be run again for the remainder of the analysis session.\n",
    "<i>Hint: select a cell with code and Shift+Enter to execute it</i>"
   ]
  },
  {
   "cell_type": "code",
   "execution_count": null,
   "metadata": {
    "tags": []
   },
   "outputs": [],
   "source": [
    "import detritalpy\n",
    "import detritalpy.detritalFuncs as dFunc\n",
    "import pathlib\n",
    "import matplotlib\n",
    "%matplotlib inline\n",
    "%config InlineBackend.figure_format = 'retina' # For improving matplotlib figure resolution\n",
    "matplotlib.rcParams['pdf.fonttype'] = 42 # For allowing preservation of fonts upon importing into Adobe Illustrator\n",
    "matplotlib.rcParams['ps.fonttype'] = 42\n",
    "print('detritalPy version: ',detritalpy.__version__)"
   ]
  },
  {
   "cell_type": "markdown",
   "metadata": {},
   "source": [
    "### II. Import the dataset as an Excel file\n",
    "This step must by run initially, and should be repeated if any changes are made to the dataset in Excel. The simplest way to load data is to place the Excel file(s) in the same directory or a sub-directory of the Jupyter Notebook file. For more options, please refer to dataLoading.ipynb."
   ]
  },
  {
   "cell_type": "code",
   "execution_count": null,
   "metadata": {
    "tags": []
   },
   "outputs": [],
   "source": [
    "# Specify file paths to data input file(s)\n",
    "dataToLoad = ['example-data/ExampleDataset_1.xlsx',\n",
    "              'example-data/ExampleDataset_2.xlsx']\n",
    "\n",
    "main_df, main_byid_df, samples_df, analyses_df = dFunc.loadDataExcel(dataToLoad, mainSheet='Samples', dataSheet='ZrUPb', ID_col = 'Sample_ID')"
   ]
  },
  {
   "cell_type": "markdown",
   "metadata": {},
   "source": [
    "Optional: run the cell below to plot a distribution of sample size (number of analyses per sample) in the dataset"
   ]
  },
  {
   "cell_type": "code",
   "execution_count": null,
   "metadata": {
    "tags": []
   },
   "outputs": [],
   "source": [
    "dFunc.plotSampleDist(main_byid_df, numBins=25)"
   ]
  },
  {
   "cell_type": "markdown",
   "metadata": {},
   "source": [
    "### III. Select samples\n",
    "Individual or groups of samples can be selected by entering their unique Sample ID's in an array or tuple (see example below for the correct syntax). This sample list will be used for all subsequent plotting and analysis functions."
   ]
  },
  {
   "cell_type": "code",
   "execution_count": null,
   "metadata": {
    "tags": []
   },
   "outputs": [],
   "source": [
    "sampleList = ['POR-1','POR-2','POR-3','BUT-5','BUT-4','BUT-3','BUT-2','BUT-1']\n",
    "\n",
    "sigma = '1sigma' # Uncertainty level of U-Pb dates, options: '1sigma' or '2sigma'\n",
    "\n",
    "ages, errors, numGrains, labels = dFunc.sampleToData(sampleList, main_byid_df, sigma=sigma);"
   ]
  },
  {
   "cell_type": "markdown",
   "metadata": {},
   "source": [
    "## Plot detrital age distributions\n",
    "Plot detrital age distributions as cumulative distribution functions (CDFs), probability density plots (PDPs), kernal density estimations (KDEs), histograms, and pie diagrams. Plotting options must be selected below."
   ]
  },
  {
   "cell_type": "code",
   "execution_count": null,
   "metadata": {
    "tags": []
   },
   "outputs": [],
   "source": [
    "# Enter plot options below\n",
    "whatToPlot = 'both' # Options: cumulative, relative, or both\n",
    "separateSubplots = True # Set to True to plot each relative age distribution in a separate subplot (allows histogram and pie)\n",
    "\n",
    "# Specify the age range (Myr) that you want to plot\n",
    "x1 = 0\n",
    "x2 = 300\n",
    "plotLog = False # Set to True to plot the x-axis as a log scale\n",
    "\n",
    "# Specify the plot dimensions\n",
    "w = 10 # width of the plot\n",
    "c = 4 # height of CDF panel\n",
    "h = 5 # height of the relative panel (only required if separateSubplots is False). Options: 'auto' or an integer\n",
    "\n",
    "# Specify the interval (Myr) over which distributions are calculated\n",
    "xdif = 1 # Note: an interval of 1 Myr is recommended\n",
    "\n",
    "# Cumulative distribution options\n",
    "plotCDF = True # Plot the CDF discretized at xdif interval\n",
    "plotCPDP = False # Plot the cumulative PDP\n",
    "plotCKDE = False # Plot the cumulative KDE\n",
    "plotDKW = False # Plot the 95% confidence interval of the CDF (Dvoretsky-Kiefer-Wolfowitz inequality)\n",
    "\n",
    "# Relative distribution options\n",
    "normPlots = False # Will normalize the PDP/KDE if equals True (if separateSubplots is True)\n",
    "\n",
    "plotKDE = False # Set to True if want to plot KDE\n",
    "colorKDE = False # Will color KDE according to same coloration as used in CDF plotting\n",
    "colorKDEbyAge = True # Will color KDE according to age populations if set to True\n",
    "bw = 3 # Specify the KDE bandwidth. Options are 'ISJ', 'optimizedFixed', 'optimizedVariable', or a number (bandwidth in Myr; e.g., bw = 3)\n",
    "bw_x = None # X-axis location of bandwidth split (only used if multiple KDE values are specified in a list). Set to None if not using a split bandwidth.\n",
    "\n",
    "plotPDP = True # Set to True if want to plot PDP\n",
    "colorPDP = False # Will color PDP according to same coloration as used in CDF plotting\n",
    "colorPDPbyAge = True # Will color PDP according to age populations if set to True\n",
    "\n",
    "plotColorBar = False # Color age categories as vertical bars, can add white bars to create blank space between other colored bars\n",
    "\n",
    "plotHist = True # Set to True to plot a histogram (only available when separateSubplots is True)\n",
    "b = 5 # Specify the histogram bin size (Myr)\n",
    "\n",
    "plotPIE = True # Will plot a pie diagram (only available when separateSubplots is True)\n",
    "\n",
    "# Specify  age categories for colored KDE, PDP, and/or pie plots\n",
    "# Sharman et al. 2015 scheme\n",
    "agebins = [0, 23, 65, 85, 100, 135, 200, 300, 500, 4500]\n",
    "agebinsc = ['slategray','royalblue','gold','red','darkred','purple','navy','gray','saddlebrown']\n",
    "\n",
    "# Alternative way of specifying age bins\n",
    "agebins = [[0,23],[23,65],[65,85],[85,100],[100,135],[135,200],[200,300],[300,500],[500,4500]]\n",
    "agebinsc = ['slategray','royalblue','gold','red','darkred','purple','navy','gray','saddlebrown']\n",
    "\n",
    "plotAgePeaks = False # Will identify and plot age peaks\n",
    "agePeakOptions = ['KDE', 0.05, 5, 2, True] # [distType, threshold, minDist, minPeakSize, labels]\n",
    "\n",
    "# Plot PDP or KDE distributions as a heat map\n",
    "plotHeatMap = False\n",
    "heatMapType = 'KDE' # Options: 'PDP' or 'KDE'\n",
    "heatMap = 'inferno_r'\n",
    "\n",
    "fig = dFunc.plotAll(sampleList, ages, errors, numGrains, labels, whatToPlot, separateSubplots, plotCDF, plotCPDP, plotCKDE, \n",
    "                    plotDKW, normPlots, plotKDE, colorKDE, colorKDEbyAge, plotPDP, colorPDP, colorPDPbyAge, plotColorBar, \n",
    "                    plotHist, plotLog, plotPIE, x1, x2, b, bw, xdif, agebins, agebinsc, w, c, h, plotAgePeaks, agePeakOptions,\n",
    "                    CDFlw=3, KDElw=1, PDPlw=1, bw_x=bw_x, plotHeatMap=plotHeatMap, heatMapType=heatMapType, heatMap=heatMap)"
   ]
  },
  {
   "cell_type": "markdown",
   "metadata": {},
   "source": [
    "Optional: Run the cell below to save the figure as a pdf file"
   ]
  },
  {
   "cell_type": "code",
   "execution_count": null,
   "metadata": {},
   "outputs": [],
   "source": [
    "pathlib.Path('Output').mkdir(parents=True, exist_ok=True) # Recursively creates the directory and does not raise an exception if the directory already exists \n",
    "fig.savefig('Output/DZageDistributions.pdf')"
   ]
  },
  {
   "cell_type": "markdown",
   "metadata": {},
   "source": [
    "## Plot rim age versus core age"
   ]
  },
  {
   "cell_type": "code",
   "execution_count": null,
   "metadata": {},
   "outputs": [],
   "source": [
    "sampleList = [(['11-Escanilla','12-Escanilla','10-Sobrarbe','7-Guaso','13-Guaso','5-Morillo','6-Morillo','14AB-M02','14AB-A04','14AB-A05','4-Ainsa','14AB-A06','15AB-352','15AB-118','15AB-150','3-Gerbe','14AB-G07','2-Arro','1-Fosado','14AB-F01'],'All Ainsa Basin')]\n",
    "    \n",
    "ages, errors, numGrains, labels = dFunc.sampleToData(sampleList, main_byid_df, sigma = '1sigma');"
   ]
  },
  {
   "cell_type": "code",
   "execution_count": null,
   "metadata": {},
   "outputs": [],
   "source": [
    "# Specify the age range (Myr) that you want to plot\n",
    "x1 = 0\n",
    "x2 = 3500\n",
    "y1 = 0\n",
    "y2 = 3500\n",
    "plotLog = False # Set to True to plot the x-axis as a log scale\n",
    "plotError = True # Select whether to plot error bars\n",
    "\n",
    "# Specify the plot dimensions\n",
    "w = 8 # width of the plot\n",
    "c = 8 # height of the plot\n",
    "\n",
    "rimsVsCores = dFunc.plotRimsVsCores(main_byid_df, sampleList, ages, errors, labels, x1, x2, y1, y2, plotLog, plotError, w, c)"
   ]
  },
  {
   "cell_type": "markdown",
   "metadata": {},
   "source": [
    "Optional: Run the cell below to save the figure as a pdf file"
   ]
  },
  {
   "cell_type": "code",
   "execution_count": null,
   "metadata": {},
   "outputs": [],
   "source": [
    "pathlib.Path('Output').mkdir(parents=True, exist_ok=True) # Recursively creates the directory and does not raise an exception if the directory already exists \n",
    "rimsVsCores.savefig('Output/rimVsCore.pdf')"
   ]
  },
  {
   "cell_type": "markdown",
   "metadata": {},
   "source": [
    "## Plot detrital age distributions in comparison to another variable (e.g., Th/U)\n",
    "Samples or groups of samples will be plotted in two parts 1) an upper scatterplot with an optional moving average, and 2) age distributions (options are to plot probability density plots (PDPs), kernal density estimations (KDE), and/or histograms). The upper plot variable must be a column name within the U_Pb_Data worksheet. "
   ]
  },
  {
   "cell_type": "code",
   "execution_count": null,
   "metadata": {},
   "outputs": [],
   "source": [
    "sampleList = [(['POR-1','POR-2','POR-3'],'Point of Rocks Sandstone'),\n",
    "              (['BUT-5','BUT-4','BUT-3','BUT-2','BUT-1'],'Butano Sandstone')]\n",
    "\n",
    "ages, errors, numGrains, labels = dFunc.sampleToData(sampleList, main_byid_df, sigma = '1sigma');"
   ]
  },
  {
   "cell_type": "code",
   "execution_count": null,
   "metadata": {},
   "outputs": [],
   "source": [
    "# Select the column to plot in the upper plot\n",
    "variableName = 'Th_U'\n",
    "plotError = False # Select True to plot error bars \n",
    "variableError = 0.05 # Required if plotError = True: Select the variable name or specify the error as a percentage (e.g., 0.05)\n",
    "\n",
    "# Specify the age range (Myr) that you want to plot\n",
    "x1 = 0\n",
    "x2 = 300\n",
    "plotLog = False # Set to True to plot the x-axis as a log scale\n",
    "\n",
    "# Specify the y-axis scale\n",
    "autoScaleY = False\n",
    "y1 = 0\n",
    "y2 = 2\n",
    "\n",
    "# Specify the plot dimensions\n",
    "w = 10 # width of CDF panel and distribution plots\n",
    "t = 3 # height of top panel\n",
    "l = 1 # height of the bottom panel\n",
    "\n",
    "# Specify the interval (Myr) over which distributions are calculated\n",
    "xdif = 1\n",
    "\n",
    "# Relative distribution options\n",
    "normPlots = False # Will normalize the PDP/KDE if yes to True\n",
    "\n",
    "plotKDE = False # Set to True if want to plot KDE\n",
    "colorKDE = False # Will color KDE according to same coloration as used in CDF plotting\n",
    "colorKDEbyAge = True # Will color KDE according to age populations if set to True\n",
    "bw = 10 # Specify the KDE bandwidth. Options are 'optimizedFixed', 'optimizedVariable', or a number (bandwidth in Myr)\n",
    "\n",
    "plotPDP = True # Set to True if want to plot PDP\n",
    "colorPDP = False # Will color PDP according to same coloration as used in CDF plotting\n",
    "colorPDPbyAge = True # Will color PDP according to age populations if set to True\n",
    "\n",
    "plotColorBar = False # Color age categories as vertical bars, can add white bars to create blank space between other colored bars\n",
    "\n",
    "plotHist = False # Set to True to plot a histogram\n",
    "b = 5 # Specify the histogram bin size (Myr)\n",
    "\n",
    "#Sharman et al. 2015 scheme\n",
    "agebins = [0, 23, 65, 85, 100, 135, 200, 300, 500, 4500]\n",
    "agebinsc = ['slategray','royalblue','gold','red','darkred','purple','navy','gray','saddlebrown']\n",
    "\n",
    "plotMovingAverage = True\n",
    "windowSize = 25\n",
    "\n",
    "figDouble = dFunc.plotDouble(sampleList, main_byid_df, ages, errors, numGrains, labels, variableName, plotError, variableError, normPlots,\n",
    "                     plotKDE, colorKDE, colorKDEbyAge, plotPDP, colorPDP, colorPDPbyAge, plotHist, x1, x2, autoScaleY, y1, y2, b,\n",
    "                     bw, xdif, agebins, agebinsc, w, t, l, plotLog, plotColorBar, plotMovingAverage, windowSize, KDElw=1, PDPlw=1);"
   ]
  },
  {
   "cell_type": "markdown",
   "metadata": {},
   "source": [
    "Optional: Run the cell below to save the figure as a pdf file"
   ]
  },
  {
   "cell_type": "code",
   "execution_count": null,
   "metadata": {},
   "outputs": [],
   "source": [
    "pathlib.Path('Output').mkdir(parents=True, exist_ok=True) # Recursively creates the directory and does not raise an exception if the directory already exists \n",
    "figDouble.savefig('Output/doublePlot.pdf')"
   ]
  },
  {
   "cell_type": "markdown",
   "metadata": {},
   "source": [
    "## Plot detrital age populations as a bar graph"
   ]
  },
  {
   "cell_type": "code",
   "execution_count": null,
   "metadata": {},
   "outputs": [],
   "source": [
    "# Specify plot parameters\n",
    "overlap = 0.9\n",
    "width = 6\n",
    "height = 0.75\n",
    "\n",
    "# Specify  age population boundaries and colors\n",
    "# Sharman et al. 2015 scheme\n",
    "agebins = [0, 23, 65, 85, 100, 135, 200, 300, 500, 4500]\n",
    "agebinsc = ['slategray','royalblue','gold','red','darkred','purple','navy','gray','saddlebrown']\n",
    "\n",
    "# Specify whether to separate grouped sample lists into individual samples\n",
    "separateGroups = True # Set to True to separate groups into their individual samples\n",
    "\n",
    "fileName = 'ageProportions.csv' # Specify file name to save\n",
    "\n",
    "savePlot = True #Specify whether to save output plots as PDF files\n",
    "\n",
    "dFunc.ageProportionsCSV(ages, errors, numGrains, labels, agebins, fileName)\n",
    "figBar = dFunc.plotBar(width, height, overlap, main_byid_df, sampleList, ages, numGrains, labels, agebins, agebinsc, separateGroups, savePlot)"
   ]
  },
  {
   "cell_type": "markdown",
   "metadata": {},
   "source": [
    "## Plot sample locations on an interactive map\n",
    "Samples with coordinate information (latitude and longitude in WGS84 coordinates) can be plotted on an interactive map. This functionality requires the following modules must be installed: folium and vincent. These can be installed via the python command line prompt by entering \"pip install folium\" and \"pip install vincent\"."
   ]
  },
  {
   "cell_type": "code",
   "execution_count": null,
   "metadata": {},
   "outputs": [],
   "source": [
    "# Specify whether age distributions should be enabled (can be viewed by clicking on samples)\n",
    "plotMapKDE = True # Choose True to enable KDEs when samples are selected\n",
    "plotMapPDP = False # Choose True to enable PDPs when samples are selected\n",
    "plotCumulative = False # Choose True to plot either a cumulative KDE or PDP. A discretized CDF will be plotted if KDE and PDP are both set to False\n",
    "\n",
    "# Specify the upper age limit that you want to plot\n",
    "x2 = 300\n",
    "# Specify the KDE bandwidth\n",
    "bw = 1.5 # Specify the KDE bandwidth. Options are 'optimizedFixed', 'optimizedVariable', or a number (bandwidth in Myr)\n",
    "\n",
    "mapType = 'World_Topo_Map' # Options: 'NatGeo_World_Map', 'World_Street_Map', 'World_Topo_Map', 'World_Light_Gray',\n",
    "                             # 'World_Shaded_Relief', 'World_Terrain_Base', 'World_Hillshade', 'World_Physical_Map'\n",
    "\n",
    "exportKML = True\n",
    "descrpt = 'Unit' # Description to be included with each sample\n",
    "    \n",
    "dFunc.plotFoliumMap(sampleList, main_byid_df, ages, errors, numGrains, plotMapKDE, \n",
    "                             plotMapPDP, plotCumulative, x2, bw, mapType, exportKML, descrpt)"
   ]
  },
  {
   "cell_type": "markdown",
   "metadata": {},
   "source": [
    "## Plot and export maximum depositional age (MDA) calculations\n",
    "Calculate the maxmium depositional age (MDA) for a sample or group of samples. Results will be exported to a CSV file. Individual plots will be made for each sample or group of samples showing the youngest grains and different calculations of the maxmimum depositional age."
   ]
  },
  {
   "cell_type": "code",
   "execution_count": null,
   "metadata": {},
   "outputs": [],
   "source": [
    "sampleList = ['POR-1','POR-2','POR-3']\n",
    "\n",
    "ages, errors, numGrains, labels = dFunc.sampleToData(sampleList, main_byid_df, sigma = '1sigma');"
   ]
  },
  {
   "cell_type": "code",
   "execution_count": null,
   "metadata": {},
   "outputs": [],
   "source": [
    "# Specify output CSV file\n",
    "fileName = 'MDA.csv'\n",
    "\n",
    "# Specify whether to create a plot showing youngest ages and MDA calculations\n",
    "makePlot = True\n",
    "\n",
    "# Specify how grains are sorted on the plot: by best age, best age + 1 sigma error, or best age + 2 sigma error\n",
    "sortBy = '1sigma' # Options: 'mean', '1sigma', '2sigma'\n",
    "\n",
    "# Specify plot parameters\n",
    "plotWidth = 8\n",
    "plotHeight = 5\n",
    "barWidth = 0.25 # A value of 1 yields 100% overlap\n",
    "ageColors = ['blue','red','green'] # Specify color of horizontal bars for YSG, YC1S(2+), and YC2s(3+), respectively\n",
    "fillMDACalcs = True # Select True to shade each MDA calculation within 1 sigma confidence limits\n",
    "alpha = 0.25 # Specifies the transparency of the MDA calculation colors\n",
    "\n",
    "figMDA = dFunc.MDAtoCSV(sampleList, ages, errors, numGrains, labels, fileName, sortBy, barWidth, plotWidth, plotHeight, \n",
    "                        ageColors, alpha, makePlot, fillMDACalcs)"
   ]
  },
  {
   "cell_type": "markdown",
   "metadata": {},
   "source": [
    "Optional: Run the cell below to save the figure as a pdf file"
   ]
  },
  {
   "cell_type": "code",
   "execution_count": null,
   "metadata": {},
   "outputs": [],
   "source": [
    "pathlib.Path('Output').mkdir(parents=True, exist_ok=True) # Recursively creates the directory and does not raise an exception if the directory already exists \n",
    "figMDA.savefig('Output/MDAplots.pdf')"
   ]
  },
  {
   "cell_type": "markdown",
   "metadata": {},
   "source": [
    "## Multi-dimensional scaling\n",
    "Create a multi-dimensional scaling (MDS) plot for individual samples or groups of samples. <i><b>Revised and updated in detritalpy version 1.3.</b></i>"
   ]
  },
  {
   "cell_type": "code",
   "execution_count": null,
   "metadata": {},
   "outputs": [],
   "source": [
    "sampleList = ['POR-1','POR-2','POR-3','BUT-5','BUT-4','BUT-3','BUT-2','BUT-1','SJB-1','SEF-1','TEJ-2','TEJ-1']\n",
    "\n",
    "ages, errors, numGrains, labels = dFunc.sampleToData(sampleList, main_byid_df, sigma = '1sigma');"
   ]
  },
  {
   "cell_type": "markdown",
   "metadata": {},
   "source": [
    "Run the model. Note that this may take a while, depending on the number of initializations (n_init) chosen. Increasing the number of initializations increased the likelihood of finding a more optimal fit (i.e., lower stress)."
   ]
  },
  {
   "cell_type": "code",
   "execution_count": null,
   "metadata": {},
   "outputs": [],
   "source": [
    "model = dFunc.MDS_class(ages, errors, labels, sampleList, metric=False, criteria='Vmax', bw=3, n_init='metric', \n",
    "                        max_iter=1000, x1=0, x2=4500, xdif=1, min_dim=1, max_dim=3, dim=2)"
   ]
  },
  {
   "cell_type": "markdown",
   "metadata": {},
   "source": [
    "After the model has been run, a number of figures can be generated, in any order."
   ]
  },
  {
   "cell_type": "markdown",
   "metadata": {},
   "source": [
    "The QQ matrix plots each sample CDF against the others. A perfect match falls along the dashed line. <i>Note: This is not recommended for large datasets (e.g., >20 samples or sample groups)</i>"
   ]
  },
  {
   "cell_type": "code",
   "execution_count": null,
   "metadata": {
    "tags": []
   },
   "outputs": [],
   "source": [
    "model.QQplot(figsize=(12,12), savePlot=False, fileName='QQplot.pdf', halfMatrix=True)"
   ]
  },
  {
   "cell_type": "markdown",
   "metadata": {},
   "source": [
    "A heatmap of the sample dissimilarity matrix gives an indication of the data that is going into the MDS algorithm"
   ]
  },
  {
   "cell_type": "code",
   "execution_count": null,
   "metadata": {
    "tags": []
   },
   "outputs": [],
   "source": [
    "model.heatMap(figsize=(10,10), savePlot=False, fileName='HeatMapPlot.pdf', plotValues=True,\n",
    "              plotType='dissimilarity', fontsize=10)"
   ]
  },
  {
   "cell_type": "markdown",
   "metadata": {},
   "source": [
    "By setting the keyword argument plotType to equal 'distance', we can plot the Euclidean distance between sample pairs on the MDS plot. There should be a general correlation with the heat mat above, as samples that are more different should be farther apart."
   ]
  },
  {
   "cell_type": "code",
   "execution_count": null,
   "metadata": {},
   "outputs": [],
   "source": [
    "model.heatMap(figsize=(10,10), savePlot=False, fileName='HeatMapPlot.pdf', plotValues=True, plotType='distance', fontsize=10)"
   ]
  },
  {
   "cell_type": "markdown",
   "metadata": {},
   "source": [
    "A stress plot gives an indication of the goodness-of-fit and how this varies depending on how many dimensions are modeled"
   ]
  },
  {
   "cell_type": "markdown",
   "metadata": {},
   "source": [
    "<b><i>Note:</i></b> As of scikit-learn v1.4.0, Stress-1 (Kruskal, 1964) is returned for non-metric MDS (i.e., metric=False). For metric MDS (i.e., metric=True), stress values are the \"sum of squared distance of the disparities and the distances for all constrained points\". Please refer to the sklearn.manifold.MDS documentation for additional details."
   ]
  },
  {
   "cell_type": "code",
   "execution_count": null,
   "metadata": {},
   "outputs": [],
   "source": [
    "model.stressPlot(figsize=(6,6), savePlot=False, fileName='stressPlot.pdf')"
   ]
  },
  {
   "cell_type": "markdown",
   "metadata": {},
   "source": [
    "A Shepard plot compares x-y distance on the MDS plot against the dissimilarity metric. Ideally, sample pairs that are far apart on the MDS plot (large distance) will also be the most dissimilar, and visa versa. The amount of scatter gives a sense of the stress value - a lot of scatter means that there's a lot of variance in how well distance on the MDS plot characterizes sample dissimilarity."
   ]
  },
  {
   "cell_type": "code",
   "execution_count": null,
   "metadata": {},
   "outputs": [],
   "source": [
    "model.shepardPlot(figsize=(6,6), savePlot=False, fileName='shepardPlot.pdf', plotOneToOneLine=False)"
   ]
  },
  {
   "cell_type": "markdown",
   "metadata": {},
   "source": [
    "The MDS plot is a depiction of sample similarity and dissimilarity (refer to Vermeesch, 2013: Chemical Geology for a more complete description)."
   ]
  },
  {
   "cell_type": "code",
   "execution_count": null,
   "metadata": {},
   "outputs": [],
   "source": [
    "model.MDSplot(figsize=(6,6), savePlot=False, fileName='MDSplot.pdf', plotLabels=True, equalAspect=False, \n",
    "              stressType='sklearn')"
   ]
  },
  {
   "cell_type": "markdown",
   "metadata": {},
   "source": [
    "Note that individual samples can be colored accoring to a categorical variable (column name in the 'Samples' table)"
   ]
  },
  {
   "cell_type": "code",
   "execution_count": null,
   "metadata": {},
   "outputs": [],
   "source": [
    "model.MDSplot(figsize=(6,6), savePlot=False, fileName='MDSplot.pdf', plotLabels=True, colorBy='Unit', \n",
    "              df=main_byid_df, equalAspect=False, stressType='sklearn')"
   ]
  },
  {
   "cell_type": "markdown",
   "metadata": {},
   "source": [
    "Samples can also be plotted as pie diagrams where bins correspond to different age categories"
   ]
  },
  {
   "cell_type": "code",
   "execution_count": null,
   "metadata": {},
   "outputs": [],
   "source": [
    "# Sharman et al. 2015 scheme\n",
    "agebins = [0, 23, 65, 85, 100, 135, 200, 300, 500, 4500]\n",
    "agebinsc = ['slategray','royalblue','gold','red','darkred','purple','navy','gray','saddlebrown']\n",
    "\n",
    "model.MDSplot(figsize=(6,6), savePlot=False, fileName='MDSplot.pdf', plotLabels=True, \n",
    "              plotPie=True, pieType='Age', pieSize=0.04, agebins=agebins, agebinsc=agebinsc, equalAspect=False)"
   ]
  },
  {
   "cell_type": "markdown",
   "metadata": {},
   "source": [
    "## (U-Th)/He vs U-Pb age \"double dating\" plot\n",
    "Creates a figure where detrital cooling ages are plotted against detrital crystallization ages."
   ]
  },
  {
   "cell_type": "code",
   "execution_count": null,
   "metadata": {},
   "outputs": [],
   "source": [
    "sampleList = [(['11-Escanilla','12-Escanilla','10-Sobrarbe','7-Guaso','13-Guaso','5-Morillo','6-Morillo','14AB-M02','14AB-A04','14AB-A05','4-Ainsa','14AB-A06','15AB-352','15AB-118','15AB-150','3-Gerbe','14AB-G07','2-Arro','1-Fosado','14AB-F01'],'All Ainsa Basin')]\n",
    "\n",
    "ages, errors, numGrains, labels = dFunc.sampleToData(sampleList, main_byid_df,  sigma = '1sigma');"
   ]
  },
  {
   "cell_type": "code",
   "execution_count": null,
   "metadata": {},
   "outputs": [],
   "source": [
    "# Specify plotting extents\n",
    "x1 = 0\n",
    "x2 = 3500\n",
    "y1 = 0\n",
    "y2 = 500\n",
    "\n",
    "# Specify plotting options\n",
    "plotKDE = False # Set to True if want to plot KDE\n",
    "colorKDE = False # Will color KDE according to same coloration as used in CDF plotting\n",
    "colorKDEbyAge = True # Will color KDE according to age populations if set to True\n",
    "# Specify the KDE bandwidth\n",
    "bw = 10 # Specify the KDE bandwidth. Options are 'optimizedFixed', 'optimizedVariable', or a number (bandwidth in Myr)\n",
    "\n",
    "plotPDP = True # Set to True if want to plot PDP\n",
    "colorPDP = True # Will color PDP according to same coloration as used in CDF plotting\n",
    "colorPDPbyAge = False # Will color PDP according to age populations if set to True\n",
    "\n",
    "plotHist = False # Set to True if want to plot histogram\n",
    "b = 25 # Specify the histogram bin size\n",
    "\n",
    "# Specify the interval over which distributions are calculated\n",
    "xdif = 1\n",
    "\n",
    "# Specify plot dimensions (recommend width=height)\n",
    "width=10\n",
    "height=10\n",
    "\n",
    "savePlot = True #Specify whether to save output plots as PDF files\n",
    "\n",
    "agebins = [0, 66, 180, 280, 310, 330, 410, 520, 700, 900, 1200, 1500, 3500]\n",
    "agebinsc = ['olivedrab','purple','lightskyblue','lightseagreen','lightsteelblue','gold','sandybrown','orange','darkorange','firebrick','orchid','gray']\n",
    "\n",
    "figDoubleDating = dFunc.plotDoubleDating(main_byid_df, sampleList, x1, x2, y1, y2, plotKDE, colorKDE, colorKDEbyAge, plotPDP, colorPDP,\n",
    "                     colorPDPbyAge, plotHist, b, bw, xdif, width, height, savePlot, agebins, agebinsc);"
   ]
  },
  {
   "cell_type": "markdown",
   "metadata": {},
   "source": [
    "## Export sample comparison matrices as a CSV file\n",
    "Creates matricies of sample comparisons using a number of different metrics (see Saylor and Sundell, 2016). Similiarity, likness, Kolgomorov-Smirnov statistic (Dmax and p-value), Kuiper statistic (Vmax and p-value), and cross-correlation of relative probability density functions. Similiarty, likeness, and cross-correlation values are computed based on either the probability density plot (PDP) or kernal density estimation (KDE)."
   ]
  },
  {
   "cell_type": "code",
   "execution_count": null,
   "metadata": {},
   "outputs": [],
   "source": [
    "sampleList = ['POR-1','POR-2','POR-3']\n",
    "\n",
    "ages, errors, numGrains, labels = dFunc.sampleToData(sampleList, main_byid_df, sigma = '1sigma');"
   ]
  },
  {
   "cell_type": "code",
   "execution_count": null,
   "metadata": {},
   "outputs": [],
   "source": [
    "calculateSimilarity = True\n",
    "calculateLikeness = True\n",
    "calculateKS = True\n",
    "calculateKuiper = True\n",
    "calculateR2 = True\n",
    "calculateW2 = True\n",
    "fileName = 'interSampleComparison.csv'\n",
    "\n",
    "# Specify what type of relative distribution to compare for similarity, likeness, and cross-correlation calculations\n",
    "distType = 'KDE' # Options are 'PDP' or 'KDE'\n",
    "bw = 10 # Specify the bandwidth for the KDE distribution. Options are 'optimizedFixed','optimizedVariable', or a number (Ma)\n",
    "\n",
    "dFunc.calcComparisonCSV(ages=ages, errors=errors, numGrains=numGrains, labels=labels, sampleList=sampleList,\n",
    "                        calculateSimilarity=calculateSimilarity, calculateLikeness=calculateLikeness,\n",
    "                        calculateKS=calculateKS, calculateKuiper=calculateKuiper, calculateR2=calculateR2,\n",
    "                        calculateW2=calculateW2, fileName=fileName, distType=distType, bw=bw)"
   ]
  },
  {
   "cell_type": "markdown",
   "metadata": {},
   "source": [
    "## Export detrital age distributions as a CSV file\n",
    "Creates a CSV file with raw age distribution data. Distribution types supported are cumulative density functions (CDFs), probability density plots (PDPs), and kernal density estimations (KDEs)."
   ]
  },
  {
   "cell_type": "code",
   "execution_count": null,
   "metadata": {},
   "outputs": [],
   "source": [
    "# Specify export options\n",
    "exportType = 'PDP' # Options: 'CDF', 'PDP' or 'KDE'\n",
    "cumulative = False # Only applies if exportType = 'PDP' or 'KDE'\n",
    "\n",
    "# Specify the age range that you want to export\n",
    "x1 = 0\n",
    "x2 = 3500\n",
    "# Specify the KDE bandwidth\n",
    "bw = 15 # Options are 'optimizedFixed', 'optimizedVariable', or a number (bandwidth in Ma)\n",
    "# Specify the interval over which distributions are calculated\n",
    "xdif = 1\n",
    "# Require distributions to sum to 1\n",
    "normalize = True\n",
    "\n",
    "# Specify file name to save\n",
    "fileName = 'Dist_to_CSV.csv'\n",
    "\n",
    "dFunc.exportDist(ages, errors, labels, exportType, cumulative, x1, x2, xdif, bw, fileName, normalize)"
   ]
  },
  {
   "cell_type": "markdown",
   "metadata": {},
   "source": [
    "## Export ages and errors in tabular format as a CSV file\n",
    "Creates a CSV file with sample or sample group ages and 1 sigma errors reported in the two-column format that is used by other plotting and analysis software (e.g., DZstats (Saylor and Sundel, 2016) and Arizona LaserChron Center in-house excel macros)."
   ]
  },
  {
   "cell_type": "code",
   "execution_count": null,
   "metadata": {},
   "outputs": [],
   "source": [
    "# Specify file name to save\n",
    "fileName = 'AgeError_toCSV.csv'\n",
    "\n",
    "dFunc.agesErrorsCSV(ages, errors, sampleList, fileName)"
   ]
  },
  {
   "cell_type": "code",
   "execution_count": null,
   "metadata": {},
   "outputs": [],
   "source": []
  }
 ],
 "metadata": {
  "kernelspec": {
   "display_name": "Python 3 (ipykernel)",
   "language": "python",
   "name": "python3"
  },
  "language_info": {
   "codemirror_mode": {
    "name": "ipython",
    "version": 3
   },
   "file_extension": ".py",
   "mimetype": "text/x-python",
   "name": "python",
   "nbconvert_exporter": "python",
   "pygments_lexer": "ipython3",
   "version": "3.10.9"
  }
 },
 "nbformat": 4,
 "nbformat_minor": 4
}
