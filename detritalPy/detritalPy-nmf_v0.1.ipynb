{
 "cells": [
  {
   "cell_type": "markdown",
   "metadata": {},
   "source": [
    "# <center>detritalPy-nmf</center>\n",
    "### <center>Glenn R. Sharman</center>\n",
    "#### <center>Code for conducting 'bottom-up', or inverse, mixture modeling of detrital zircon U-Pb age distributions</center>"
   ]
  },
  {
   "cell_type": "markdown",
   "metadata": {},
   "source": [
    "#### <center>Version 0.1 (Beta)</center>\n",
    "##### <center>Updated Feb 9, 2024</center>"
   ]
  },
  {
   "cell_type": "markdown",
   "metadata": {},
   "source": [
    "<center>This is a <b>Beta</b> release detritalPy-nmf. Please contact Glenn Sharman (gsharman@uark.edu) if you encounter any errors or problems.</center>"
   ]
  },
  {
   "cell_type": "markdown",
   "metadata": {},
   "source": [
    "<center>If you find this code helpful in your research, please consider citing Sharman and Johnstone (2017): Earth and Planetary Science Letters (https://doi.org/10.1016/j.epsl.2017.07.044) and/or Saylor et al. (2019): Earth and Planetary Science Letters (https://doi.org/10.1016/j.epsl.2019.01.044)</center>"
   ]
  },
  {
   "cell_type": "markdown",
   "metadata": {},
   "source": [
    "### I. Import required modules\n",
    "This step must by run initially, but then does not need to be run again for the remainder of the analysis session."
   ]
  },
  {
   "cell_type": "code",
   "execution_count": null,
   "metadata": {},
   "outputs": [],
   "source": [
    "import detritalpy\n",
    "import detritalpy.detritalFuncs as dFunc\n",
    "import detritalpy.nmfFuncs as nmf\n",
    "import pathlib\n",
    "import matplotlib\n",
    "import time\n",
    "from operator import itemgetter\n",
    "import pandas as pd\n",
    "import numpy as np\n",
    "%matplotlib inline\n",
    "%config InlineBackend.figure_format = 'retina' # For improving matplotlib figure resolution\n",
    "matplotlib.rcParams['pdf.fonttype'] = 42 # For allowing preservation of fonts upon importing into Adobe Illustrator\n",
    "matplotlib.rcParams['ps.fonttype'] = 42\n",
    "print('detritalPy version: ',detritalpy.__version__)"
   ]
  },
  {
   "cell_type": "markdown",
   "metadata": {},
   "source": [
    "### II. Import the dataset as an Excel file and select samples to analyze\n",
    "This step must by run initially, and should be repeated if any changes are made to the dataset in Excel"
   ]
  },
  {
   "cell_type": "markdown",
   "metadata": {},
   "source": [
    "<b><i>Pro tip:</b></i> If you have many samples to include in the analysis, it is tediuos to type them out manually. You can alternatively select all the samples in the dataset using the example syntax below, or you can check out the \"detritalPy concatenator.xlsx\" on https://github.com/grsharman/detritalPy for a fast way of formatting many samples for analysis"
   ]
  },
  {
   "cell_type": "markdown",
   "metadata": {},
   "source": [
    "<b>Example 1: </b>This is the Grand Canyon dataset presented by Saylor et al. (2019): Earth and Planetary Science Letters (https://doi.org/10.1016/j.epsl.2019.01.044). Please refer to this publication for additional information."
   ]
  },
  {
   "cell_type": "code",
   "execution_count": null,
   "metadata": {},
   "outputs": [],
   "source": [
    "dataToLoad = ['example-data/Grand_Canyon_Data-dPy_input.xlsx']\n",
    "\n",
    "main_df, main_byid_df, samples_df, analyses_df = dFunc.loadDataExcel(dataToLoad, dataSheet ='U_Th_Pb')\n",
    "\n",
    "sampleList = main_byid_df['Sample_ID'].tolist() # Select individual samples (all of them)\n",
    "\n",
    "sigma = '1sigma' # Enter '1sigma' if your database has 1-sigma uncertainties. Otherwise enter '2sigma'.\n",
    "\n",
    "ages, errors, numGrains, labels = dFunc.sampleToData(sampleList, main_byid_df, sigma = sigma);"
   ]
  },
  {
   "cell_type": "markdown",
   "metadata": {},
   "source": [
    "<b>Example 2:</b> This is the Book Cliffs dataset presented by Saylor et al. (2019): Earth and Planetary Science Letters (https://doi.org/10.1016/j.epsl.2019.01.044). Please refer to this publication for additional information."
   ]
  },
  {
   "cell_type": "code",
   "execution_count": null,
   "metadata": {},
   "outputs": [],
   "source": [
    "dataToLoad = ['example-data/Book_Cliffs_Data-dPy_input.xlsx']\n",
    "\n",
    "main_df, main_byid_df, samples_df, analyses_df = dFunc.loadDataExcel(dataToLoad, dataSheet ='U_Th_Pb')\n",
    "\n",
    "sampleList = main_byid_df['Sample_ID'].tolist() # Select individual samples (all of them)\n",
    "\n",
    "sigma = '1sigma' # Enter '1sigma' if your database has 1-sigma uncertainties. Otherwise enter '2sigma'.\n",
    "\n",
    "ages, errors, numGrains, labels = dFunc.sampleToData(sampleList, main_byid_df, sigma = sigma);"
   ]
  },
  {
   "cell_type": "markdown",
   "metadata": {},
   "source": [
    "Optional: run the cell below to plot a distribution of sample size (number of analyses per sample) in the dataset"
   ]
  },
  {
   "cell_type": "code",
   "execution_count": null,
   "metadata": {},
   "outputs": [],
   "source": [
    "dFunc.plotSampleDist(main_byid_df, numBins=25)"
   ]
  },
  {
   "cell_type": "markdown",
   "metadata": {},
   "source": [
    "## Plot detrital age distributions\n",
    "NMF is based on relative age distributions (i.e., KDE or PDP). Your results will depend on the type of age distribution that you calculate. <b><i>Important:</b></i> Plotting your data is an important step in using NMF because you will use these distributions as inputs to the algorithm."
   ]
  },
  {
   "cell_type": "code",
   "execution_count": null,
   "metadata": {},
   "outputs": [],
   "source": [
    "# Enter plot options below\n",
    "whatToPlot = 'relative' # Options: cumulative, relative, or both\n",
    "separateSubplots = False # Set to True to plot each relative age distribution in a separate subplot (allows histogram and pie)\n",
    "\n",
    "# Specify the age range (Myr) that you want to plot\n",
    "x1 = 0\n",
    "x2 = 4000\n",
    "plotLog = False # Set to True to plot the x-axis as a log scale\n",
    "\n",
    "# Specify the plot dimensions\n",
    "w = 10 # width of the plot\n",
    "c = 4 # height of CDF panel\n",
    "h = 10 # height of the relative panel (only required if separateSubplots is False). Options: 'auto' or an integer\n",
    "\n",
    "xdif = 1 # Specify the interval (Myr) over which distributions are calculated\n",
    "\n",
    "# Cumulative distribution options\n",
    "plotCDF = False # Plot the CDF discretized at xdif interval\n",
    "plotCPDP = False # Plot the cumulative PDP\n",
    "plotCKDE = False # Plot the cumulative KDE\n",
    "plotDKW = False # Plot the 95% confidence interval of the CDF (Dvoretsky-Kiefer-Wolfowitz inequality)\n",
    "\n",
    "# Relative distribution options\n",
    "normPlots = False # Will normalize the PDP/KDE if yes to True (if separateSubplots is True)\n",
    "\n",
    "plotKDE = True # Set to True if want to plot KDE\n",
    "colorKDE = False # Will color KDE according to same coloration as used in CDF plotting\n",
    "colorKDEbyAge = False # Will color KDE according to age populations if set to True\n",
    "bw = 15 # Specify the KDE bandwidth. Options are 'optimizedFixed', 'optimizedVariable', or a number (bandwidth in Myr). Multiple bandwidths can be entered in a list if using a split KDE\n",
    "bw_x = None # Specify x-axis split location (if using a split KDE) (e.g., [300])\n",
    "\n",
    "plotPDP = False # Set to True if want to plot PDP\n",
    "colorPDP = False # Will color PDP according to same coloration as used in CDF plotting\n",
    "colorPDPbyAge = False # Will color PDP according to age populations if set to True\n",
    "\n",
    "plotColorBar = False # Color age categories as vertical bars, can add white bars to create blank space between other colored bars\n",
    "\n",
    "plotHist = False # Set to True to plot a histogram (only available when separateSubplots is True)\n",
    "b = 5 # Specify the histogram bin size (Myr)\n",
    "\n",
    "plotPIE = False # Will plot a pie diagram (only available when separateSubplots is True)\n",
    "\n",
    "# Specify  age categories for colored KDE, PDP, and/or pie plots\n",
    "agebins = [0,300,800,1300,1550,1800,3500]\n",
    "agebinsc = ['darkred','green','navy','orange','saddlebrown','darkgray']\n",
    "\n",
    "plotAgePeaks = False # Will identify and plot age peaks\n",
    "agePeakOptions = ['PDP', 0.01, 5, 2, True] # [distType, threshold, minDist, minPeakSize, labels]\n",
    "\n",
    "fig = dFunc.plotAll(sampleList, ages, errors, numGrains, labels, whatToPlot=whatToPlot, separateSubplots=separateSubplots, plotCDF=plotCDF,\n",
    "                    plotCPDP=plotCPDP, plotCKDE=plotCKDE, plotDKW=plotDKW, normPlots=normPlots, plotKDE=plotKDE, colorKDE=colorKDE,\n",
    "                    colorKDEbyAge=colorKDEbyAge, plotPDP=plotPDP, colorPDP=colorPDP, colorPDPbyAge=colorPDPbyAge, plotColorBar=plotColorBar, \n",
    "                    plotHist=plotHist, plotLog=plotLog, plotPIE=plotPIE, x1=x1, x2=x2, b=b, bw=bw, xdif=xdif, agebins=agebins,\n",
    "                    agebinsc=agebinsc, w=w, c=c, h=h, plotAgePeaks=plotAgePeaks, agePeakOptions=agePeakOptions, CDFlw=3, KDElw=1, PDPlw=1, bw_x=bw_x)"
   ]
  },
  {
   "cell_type": "code",
   "execution_count": null,
   "metadata": {},
   "outputs": [],
   "source": [
    "pathlib.Path('Output').mkdir(parents=True, exist_ok=True) # Recursively creates the directory and does not raise an exception if the directory already exists \n",
    "fig.savefig('Output/dPy-nmf_input_age_distributions.pdf')"
   ]
  },
  {
   "cell_type": "markdown",
   "metadata": {},
   "source": [
    "## Non-Negative Matrix Factorization (NMF)"
   ]
  },
  {
   "cell_type": "markdown",
   "metadata": {},
   "source": [
    "NMF aims to solve the equation X = WH + E, where X is a matrix with the age distributions that you are modeling, W is a matrix with sample weightings, H is a matrix with end-member age distributions, and E is residual error. See Saylor et al. (2017) Earth and Planetary Science Letters (https://doi.org/10.1016/j.epsl.2019.01.044) for additional information."
   ]
  },
  {
   "cell_type": "code",
   "execution_count": null,
   "metadata": {},
   "outputs": [],
   "source": [
    "dist_type = 'KDE' # Options: 'KDE' or 'PDP'\n",
    "\n",
    "nEMs = 15 # The number of end-member scenarios to consider\n",
    "max_iter = 10000 # Maximum number of iterations before timing out\n",
    "tol = 1e-8 # Tolerance of the stopping condition\n",
    "\n",
    "# Execute NMF\n",
    "xAge, X, Xmodeled, W, Wnorm, H, modelRecstErr, nint, in_r2_avg, in_r2_range, in_Vmax_avg, in_Vmax_range, out_r2, out_Vmax = nmf.nmf(ages=ages, errors=errors, dist_type=dist_type, bw=bw, bw_x=bw_x, nEMs=nEMs, max_iter=max_iter,\n",
    "       tol=tol, verbose=True)"
   ]
  },
  {
   "cell_type": "markdown",
   "metadata": {},
   "source": [
    "<b>Note:</b> NMF may struggle to differentiate end-members in datasets with a low range in inter-sample dissimilarity"
   ]
  },
  {
   "cell_type": "markdown",
   "metadata": {},
   "source": [
    "## Plot the model reconstruction error as a function of # of end-member scenarios\n",
    "The optimal number of end-members to use may be the point at which there is a break in slope of this plot (Saylor et al., 2019: EPSL)."
   ]
  },
  {
   "cell_type": "code",
   "execution_count": null,
   "metadata": {},
   "outputs": [],
   "source": [
    "plot_width = 8.0\n",
    "plot_height = 3.0\n",
    "\n",
    "fig = nmf.plot_reconstr_error(modelRecstErr=modelRecstErr,\n",
    "                          plot_width=plot_width, plot_height=plot_height,)"
   ]
  },
  {
   "cell_type": "markdown",
   "metadata": {},
   "source": [
    "<b>Recommended exercise: </b>In some datasets, the optimal number of end-member selected is dependent on the total number of end-members you choose to run. Try modeling 10 end-members intead of 15 and see if the suggested number changes. "
   ]
  },
  {
   "cell_type": "code",
   "execution_count": null,
   "metadata": {},
   "outputs": [],
   "source": [
    "pathlib.Path('Output').mkdir(parents=True, exist_ok=True) # Recursively creates the directory and does not raise an exception if the directory already exists \n",
    "fig.savefig('Output/dPy-nmf_model_reconstruction_error.pdf')"
   ]
  },
  {
   "cell_type": "markdown",
   "metadata": {},
   "source": [
    "## Compare modeled samples with input samples"
   ]
  },
  {
   "cell_type": "markdown",
   "metadata": {},
   "source": [
    "## Plot a Summary of End-Member Age Distributions"
   ]
  },
  {
   "cell_type": "code",
   "execution_count": null,
   "metadata": {},
   "outputs": [],
   "source": [
    "# Specify the minimum number of end-members to plot\n",
    "EMs_min = 1 # Recommended value = 1 or 2\n",
    "\n",
    "# Specify the maximum number of end-members to plot\n",
    "# Note: You may use the 'optimal' number from the preceding step as a guideline\n",
    "EMs_max = 6\n",
    "\n",
    "# Specify the age range (Myr) that you want to plot\n",
    "x_min = 0\n",
    "x_max = 3000\n",
    "plotLog = False # Set to True to plot the x-axis as a log scale\n",
    "\n",
    "plot_width_multiplier = 1.0\n",
    "plot_height_multiplier = 1.0\n",
    "\n",
    "# Specify the plot dimensions\n",
    "c = 2 # Height of CDF plot (must be integer)\n",
    "w = 3.0 # Width of individual subplots (total width equals len(H)*w)\n",
    "\n",
    "# For filling the area under the curve (if colorByAge = True)\n",
    "# Sharman et al. 2015 scheme\n",
    "agebins = [0, 23, 65, 85, 100, 135, 200, 300, 500, 4500]\n",
    "agebinsc = ['slategray','royalblue','gold','red','darkred','purple','navy','gray','saddlebrown']\n",
    "\n",
    "# 'Default' or specify colors as a list or as a single color (e.g., 'gray')\n",
    "EMcolors = 'Default'\n",
    "#EMcolors = ['red','blue','green','orange','purple','black','gray','coral','darkred','goldenrod','lavender','yellow','darkgray','lightgray','saddlebrown']\n",
    "\n",
    "colorByAge = False\n",
    "fillBetween = True\n",
    "\n",
    "fig = nmf.plot_end_members(H=H, xAge=xAge, EMs_min=EMs_min, EMs_max=EMs_max, x_min=x_min, x_max=x_max,\n",
    "                           plotLog=plotLog, plot_width_multiplier=plot_width_multiplier,\n",
    "                           plot_height_multiplier=plot_height_multiplier,\n",
    "                           c=c, w=w, agebins=agebins,\n",
    "                          agebinsc=agebinsc, EMcolors=EMcolors, colorByAge=colorByAge,\n",
    "                          fillBetween=fillBetween);\n"
   ]
  },
  {
   "cell_type": "code",
   "execution_count": null,
   "metadata": {},
   "outputs": [],
   "source": [
    "pathlib.Path('Output').mkdir(parents=True, exist_ok=True) # Recursively creates the directory and does not raise an exception if the directory already exists \n",
    "fig.savefig('Output/dPy-nmf_reconstructed_sources.pdf')"
   ]
  },
  {
   "cell_type": "markdown",
   "metadata": {},
   "source": [
    "## Plot end-member abundance in each sample"
   ]
  },
  {
   "cell_type": "code",
   "execution_count": null,
   "metadata": {},
   "outputs": [],
   "source": [
    "# 'Default' or specify colors as a list or as a single color (e.g., 'gray')\n",
    "EMcolors = 'Default'\n",
    "\n",
    "# Specify the minimum number of end-members to plot\n",
    "EMs_min = 1 # Recommended value = 1 or 2\n",
    "\n",
    "# Specify the maximum number of end-members to plot\n",
    "# Note: You may use the 'optimal' number from the preceding step as a guideline\n",
    "EMs_max = 5\n",
    "\n",
    "# Parameters that control figure size\n",
    "plot_width_multiplier = 2.0\n",
    "plot_height_multiplier = 0.25\n",
    "\n",
    "bar_height = 0.9 # Height of bars\n",
    "\n",
    "fig = nmf.plot_end_member_abundance(labels=labels, Wnorm=Wnorm, EMcolors=EMcolors, EMs_min=EMs_min, EMs_max=EMs_max,\n",
    "                                    plot_width_multiplier=plot_width_multiplier, plot_height_multiplier=plot_height_multiplier,\n",
    "                                    bar_height=bar_height);"
   ]
  },
  {
   "cell_type": "code",
   "execution_count": null,
   "metadata": {},
   "outputs": [],
   "source": [
    "pathlib.Path('Output').mkdir(parents=True, exist_ok=True) # Recursively creates the directory and does not raise an exception if the directory already exists \n",
    "fig.savefig('Output/dPy-nmf_end-member_abundances.pdf')"
   ]
  },
  {
   "cell_type": "markdown",
   "metadata": {},
   "source": [
    "## Plot end-member abundance in each sample as pie plots"
   ]
  },
  {
   "cell_type": "code",
   "execution_count": null,
   "metadata": {},
   "outputs": [],
   "source": [
    "# 'Default' or specify colors as a list or as a single color (e.g., 'gray')\n",
    "EMcolors = 'Default'\n",
    "\n",
    "# Specify the minimum number of end-members to plot\n",
    "EMs_min = 2 # Recommended value = 1 or 2\n",
    "\n",
    "# Specify the maximum number of end-members to plot\n",
    "# Note: You may use the 'optimal' number from the preceding step as a guideline\n",
    "EMs_max = 5\n",
    "\n",
    "# Parameters that control figure size\n",
    "plot_width_multiplier = 2.0\n",
    "plot_height_multiplier = 2.0\n",
    "\n",
    "fig = nmf.plot_end_member_abundance_as_pie(labels=labels, Wnorm=Wnorm, EMcolors=EMcolors, EMs_min=EMs_min, EMs_max=EMs_max,\n",
    "                                    plot_width_multiplier=plot_width_multiplier, plot_height_multiplier=plot_height_multiplier);"
   ]
  },
  {
   "cell_type": "code",
   "execution_count": null,
   "metadata": {},
   "outputs": [],
   "source": [
    "pathlib.Path('Output').mkdir(parents=True, exist_ok=True) # Recursively creates the directory and does not raise an exception if the directory already exists \n",
    "fig.savefig('Output/dPy-nmf_end-member_abundances_pies.pdf')"
   ]
  },
  {
   "cell_type": "markdown",
   "metadata": {},
   "source": [
    "## Examine how well the model reproduces the input samples"
   ]
  },
  {
   "cell_type": "markdown",
   "metadata": {},
   "source": [
    "How good do the modeled samples compare with the actual samples? One way of examining this is to calculate the similarity (e.g., r2) or dissimilarity (Vmax) of the modeled vs input sample. The plot below "
   ]
  },
  {
   "cell_type": "markdown",
   "metadata": {},
   "source": [
    "Let's plot the results as a function of the number of end-member scenarios considered"
   ]
  },
  {
   "cell_type": "code",
   "execution_count": null,
   "metadata": {},
   "outputs": [],
   "source": [
    "plot_width = 8.0\n",
    "plot_height = 3.0\n",
    "\n",
    "fig = nmf.plot_child_goodness_of_fit(out_r2=out_r2, out_Vmax=out_Vmax, plot_width=plot_width, plot_height=plot_height);"
   ]
  },
  {
   "cell_type": "markdown",
   "metadata": {},
   "source": [
    "Not surprisingly, goodness-of-fit between modeled and actal daughter improves as we define more end-members, but the amount of improvement decreases as we add more end-members"
   ]
  },
  {
   "cell_type": "code",
   "execution_count": null,
   "metadata": {},
   "outputs": [],
   "source": [
    "pathlib.Path('Output').mkdir(parents=True, exist_ok=True) # Recursively creates the directory and does not raise an exception if the directory already exists \n",
    "fig.savefig('Output/dPy-nmf_modeled_vs_actual_sample_comparison.pdf')"
   ]
  },
  {
   "cell_type": "markdown",
   "metadata": {},
   "source": [
    "Let's compare the actual daughter with the modeled daughter for each set of end-member scenarios"
   ]
  },
  {
   "cell_type": "code",
   "execution_count": null,
   "metadata": {},
   "outputs": [],
   "source": [
    "x_min = 0\n",
    "x_max = 3000\n",
    "fillBetween = True\n",
    "\n",
    "EMs_min = 1 # Recommended: 1 or 2\n",
    "EMs_max = 5 # Recommended: Max number of EMs considering\n",
    "\n",
    "plot_width_multiplier = 4.0\n",
    "plot_height_multiplier = 2.0\n",
    "\n",
    "metric_to_plot = 'Vmax' # Options: 'Vmax', 'r2', 'none'\n",
    "\n",
    "fig = nmf.plot_child_vs_modeled_CDF(labels=labels, EMs_min=EMs_min, EMs_max=EMs_max, xAge=xAge, X=X, Xmodeled=Xmodeled, out_r2=out_r2,\n",
    "                                    out_Vmax=out_Vmax, x_min=x_min, x_max=x_max, fillBetween=fillBetween, plot_width_multiplier=plot_width_multiplier,\n",
    "                                   plot_height_multiplier=plot_height_multiplier, metric_to_plot=metric_to_plot);"
   ]
  },
  {
   "cell_type": "code",
   "execution_count": null,
   "metadata": {},
   "outputs": [],
   "source": [
    "pathlib.Path('Output').mkdir(parents=True, exist_ok=True) # Recursively creates the directory and does not raise an exception if the directory already exists \n",
    "fig.savefig('Output/dPy-nmf_child_vs_modeled_CDF.pdf')"
   ]
  },
  {
   "cell_type": "markdown",
   "metadata": {},
   "source": [
    "## Export NMF results as an Excel file"
   ]
  },
  {
   "cell_type": "code",
   "execution_count": null,
   "metadata": {},
   "outputs": [],
   "source": [
    "file_name = 'dPy-nmf_results.xlsx'\n",
    "\n",
    "nmf.nmf_to_excel(labels=labels, numGrains=numGrains, xAge=xAge,\n",
    "                 X=X, Wnorm=Wnorm, H=H, modelRecstErr=modelRecstErr, nEMs=nEMs,\n",
    "                 EMs_min=EMs_min, EMs_max=EMs_max, max_iter=max_iter, nint=nint,\n",
    "                 tol=tol, in_r2_avg=in_r2_avg, in_r2_range=in_r2_range,\n",
    "                 in_Vmax_avg=in_Vmax_avg, in_Vmax_range=in_Vmax_range,\n",
    "                 out_r2=out_r2, out_Vmax=out_Vmax,\n",
    "                 dist_type=dist_type, bw=bw, bw_x=bw_x, file_name=file_name,\n",
    "                 version=detritalpy.__version__, verbose=True)"
   ]
  },
  {
   "cell_type": "markdown",
   "metadata": {},
   "source": [
    "## Plots NMF results as pies on MDS plot"
   ]
  },
  {
   "cell_type": "code",
   "execution_count": null,
   "metadata": {},
   "outputs": [],
   "source": [
    "# Open saved Excel file\n",
    "df = pd.read_excel('dPy-nmf_results.xlsx',\n",
    "                      sheet_name='Abundances')\n",
    "df.set_index('Sample',inplace=True,drop=False)"
   ]
  },
  {
   "cell_type": "code",
   "execution_count": null,
   "metadata": {},
   "outputs": [],
   "source": [
    "metric = False # Set to False for non-metric MDS or set to True for metric MDS (default is False). Non-metric MDS is recommended (Vermeesch, 2013)\n",
    "criteria = 'Vmax' # Similiarty metric used in the MDS calculation. Options: 'Vmax', 'Dmax', 'R2-PDP', 'R2-KDE' (default is 'Vmax')\n",
    "n_init = 'metric' # the number of initializations used in the MDS calculation. The final answer will be the initialation that results in the lowest stress value. Set to 'metric' to use metric MDS as initial configuration for non-metric MDS\n",
    "max_iter = 1000 # The maximum number of iterations the MDS algorthm will run for a given initialization (default = 1000)\n",
    "\n",
    "x1 = 0 # Lower limit (Ma) of age distribution to conduct MDS analysis on (default = 0)\n",
    "x2 = 4500 # Upper limit (Ma) of age distribution to conduct MDS analysis on (default = 4500)\n",
    "xdif = 1 # Interval (Myr) over which distributions are calculated (default = 1)\n",
    "min_dim = 1 # The minimum number of dimensions over which to calculate MDS (default = 1)\n",
    "max_dim = 3 # The maximum number of dimensions over which to calculate MDS (default = 3)\n",
    "dim = 2 # The chosen number of dimensions to plot (default = 2)\n",
    "\n",
    "model = dFunc.MDS_class(ages, errors, labels, sampleList, metric=metric, criteria=criteria, bw=bw, n_init=n_init, \n",
    "                        max_iter=max_iter, x1=x1, x2=x2, xdif=xdif, min_dim=min_dim, max_dim=max_dim, dim=dim)"
   ]
  },
  {
   "cell_type": "code",
   "execution_count": null,
   "metadata": {},
   "outputs": [],
   "source": [
    "figsize = (6,6) # Dimensions of the figure as a tuple (default = (10,10))\n",
    "savePlot = False # Set to True to create a PDF of the plot in the Output folder (default = True)\n",
    "fileName = 'shepardPlot.pdf' # Name of the file being saved, if savePlot == True (default = 'shepardPlot.pdf')\n",
    "plotOneToOneLine = False # Set to True to plot a 1:1 line (default = False)\n",
    "equalAspect = False # Set to True to display y- and x-axes at the same scale (default = False)\n",
    "\n",
    "model.shepardPlot(figsize=figsize, savePlot=savePlot, fileName=fileName, plotOneToOneLine=plotOneToOneLine, equalAspect=equalAspect)"
   ]
  },
  {
   "cell_type": "code",
   "execution_count": null,
   "metadata": {},
   "outputs": [],
   "source": [
    "figsize = (12, 12) # Dimensions of the figure as a tuple (default = (10,10))\n",
    "savePlot = False # Set to True to create a PDF of the plot in the Output folder (default = True)\n",
    "fileName = 'MDSplot.pdf' # Name of the file being saved, if savePlot == True (default = 'MDSplot.pdf')\n",
    "plotPie = True # Set to True to plot pie diagrams (default = False)\n",
    "pieSize = 0.05 # Set to a value (float) to specify pie size (default = 0.05)\n",
    "agebins = None # Used to define age categories for pie plots (default = None)\n",
    "pieCategories = ['4EM_EM1','4EM_EM2','4EM_EM3','4EM_EM4'] # Specifiy categories to use in pie diagrams, if pieType == 'Category' (default is None)\n",
    "agebinsc = [dFunc.colorMe(x) for x in range(len(pieCategories))] # Used to define colors of age categories used for pie plots (default = None)\n",
    "pieType = 'Category' # Specify type of information to use in plotting pies. Options: 'Age' or 'Category' (default = 'Age')\n",
    "df = df # Pandas DataFrame that contains pie plot data, if pieType != Age (default = None)\n",
    "axes = None # array of shape 2,2 with x- and y-axis minimum and maximum values (default = None)\n",
    "colorBy = 'Default' # specify category to color sample locations by (default = 'Default')\n",
    "plotLabels = True # set to True to plot sample labels (default = True)\n",
    "equalAspect = False # set to True to display y- and x-axes at the same scale (default = False)\n",
    "colors = None # Set to a list of colors of samples or sample groups (optional)\n",
    "\n",
    "model.MDSplot(figsize=figsize, savePlot=savePlot, fileName=fileName, plotLabels=plotLabels, agebinsc = agebinsc, pieSize=pieSize,\n",
    "              equalAspect=equalAspect, plotPie = plotPie, pieType=pieType, pieCategories=pieCategories,df=df)"
   ]
  },
  {
   "cell_type": "code",
   "execution_count": null,
   "metadata": {},
   "outputs": [],
   "source": []
  }
 ],
 "metadata": {
  "kernelspec": {
   "display_name": "Python 3 (ipykernel)",
   "language": "python",
   "name": "python3"
  },
  "language_info": {
   "codemirror_mode": {
    "name": "ipython",
    "version": 3
   },
   "file_extension": ".py",
   "mimetype": "text/x-python",
   "name": "python",
   "nbconvert_exporter": "python",
   "pygments_lexer": "ipython3",
   "version": "3.10.9"
  }
 },
 "nbformat": 4,
 "nbformat_minor": 4
}
