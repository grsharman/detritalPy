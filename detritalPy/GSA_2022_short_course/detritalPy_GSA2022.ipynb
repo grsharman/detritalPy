{
 "cells": [
  {
   "cell_type": "markdown",
   "metadata": {
    "id": "wn-aWX_5t4vw"
   },
   "source": [
    "# Quantitative analysis, visualization, and modelling of detrital geochronology data\n",
    "# GSA 2022 Short Course\n",
    "---\n",
    "### Application: detritalPy tutorial\n",
    "---\n",
    "Dr. Glenn Sharman, University of Arkansas\n",
    "\n",
    "\n",
    "\n"
   ]
  },
  {
   "cell_type": "markdown",
   "metadata": {
    "id": "ICaNctl3V-No"
   },
   "source": [
    "detritalPy is an open source Python-based toolset for visualing and analyzing detrital geo-thermochronologic data. More information can be found in [this article](https://onlinelibrary.wiley.com/doi/full/10.1002/dep2.45) published in 2018 in The Depositional Record and on the [detritalPy GitHub site](https://github.com/grsharman/detritalPy)."
   ]
  },
  {
   "cell_type": "markdown",
   "metadata": {
    "id": "UapGsGh7vatF"
   },
   "source": [
    "To run a cell with code, first select the cell and then either click the arrow button or return Shift+Enter"
   ]
  },
  {
   "cell_type": "markdown",
   "metadata": {
    "id": "WY-kEw9QvNoZ"
   },
   "source": [
    "## 1. Import required modules"
   ]
  },
  {
   "cell_type": "code",
   "execution_count": null,
   "metadata": {
    "colab": {
     "base_uri": "https://localhost:8080/",
     "height": 34
    },
    "id": "2mCJPp-Iu6uc",
    "outputId": "f94631d3-428c-4d64-9392-2c3cebb0eec2"
   },
   "outputs": [],
   "source": [
    "import detritalpy\n",
    "import detritalpy.detritalFuncs as dFunc\n",
    "import pathlib\n",
    "import matplotlib\n",
    "%matplotlib inline\n",
    "%config InlineBackend.figure_format = 'retina' # For improving matplotlib figure resolution\n",
    "matplotlib.rcParams['pdf.fonttype'] = 42 # For allowing preservation of fonts upon importing into Adobe Illustrator\n",
    "matplotlib.rcParams['ps.fonttype'] = 42\n",
    "print('detritalPy version: ',detritalpy.__version__)"
   ]
  },
  {
   "cell_type": "markdown",
   "metadata": {
    "id": "BsXVVgWa4BXB"
   },
   "source": [
    "## 2. Import the dataset"
   ]
  },
  {
   "cell_type": "code",
   "execution_count": null,
   "metadata": {
    "id": "lMl-vpF1vNEe"
   },
   "outputs": [],
   "source": [
    "# Specify file paths to data input file(s)\n",
    "dataToLoad = ['ExampleDataset_1.xlsx',\n",
    "              'ExampleDataset_2.xlsx']\n",
    "\n",
    "main_df, main_byid_df, samples_df, analyses_df = dFunc.loadDataExcel(dataToLoad)"
   ]
  },
  {
   "cell_type": "markdown",
   "metadata": {
    "id": "MAYpajzMv541"
   },
   "source": [
    "detritalPy makes a Pandas dataframe that contains a row for each sample. Execute the next cell to see what data is available for the first sample."
   ]
  },
  {
   "cell_type": "code",
   "execution_count": null,
   "metadata": {
    "colab": {
     "base_uri": "https://localhost:8080/",
     "height": 284
    },
    "id": "fzjtoeRhvwtr",
    "outputId": "af922bfb-04f3-47bc-ece2-5dc55a314b9c"
   },
   "outputs": [],
   "source": [
    "main_byid_df.head(1)"
   ]
  },
  {
   "cell_type": "markdown",
   "metadata": {
    "id": "duMfdHPdwMBh"
   },
   "source": [
    "## 3. Select Samples\n",
    "There are two ways to select samples in detritalPy. (1) Individual samples can be specified in a list, or (2) sample groups can be defined in a tuple, as shown below."
   ]
  },
  {
   "cell_type": "code",
   "execution_count": null,
   "metadata": {
    "id": "lJyFYCG7g_h3"
   },
   "outputs": [],
   "source": [
    "sampleList = ['POR-1','POR-2','POR-3','BUT-5','BUT-4','BUT-3','BUT-2','BUT-1']\n",
    "\n",
    "#The code below returns a list of arrays used in subsequent calculations\n",
    "ages, errors, numGrains, labels = dFunc.sampleToData(sampleList,\n",
    "                                                     main_byid_df,\n",
    "                                                     sigma = '1sigma')"
   ]
  },
  {
   "cell_type": "code",
   "execution_count": null,
   "metadata": {
    "colab": {
     "base_uri": "https://localhost:8080/",
     "height": 34
    },
    "id": "2yI1udXkhHBn",
    "outputId": "959544aa-ae10-41f1-a01d-bdb82e7dce4e"
   },
   "outputs": [],
   "source": [
    "print('The first sample has this many analyses :',len(ages[0]))"
   ]
  },
  {
   "cell_type": "code",
   "execution_count": null,
   "metadata": {
    "id": "-VczIQlMvyDQ"
   },
   "outputs": [],
   "source": [
    "sampleList = [(['POR-1','POR-2','POR-3'],'Point of Rocks Sandstone'),\n",
    "              (['BUT-5','BUT-4','BUT-3','BUT-2','BUT-1'],'Butano Sandstone')]\n",
    "\n",
    "\n",
    "#The code below returns a list of arrays used in subsequent calculations\n",
    "ages, errors, numGrains, labels = dFunc.sampleToData(sampleList,\n",
    "                                                     main_byid_df,\n",
    "                                                     sigma = '1sigma')"
   ]
  },
  {
   "cell_type": "code",
   "execution_count": null,
   "metadata": {
    "colab": {
     "base_uri": "https://localhost:8080/",
     "height": 34
    },
    "id": "do3I2v1fhNlp",
    "outputId": "c0df7195-e4a1-4fb1-eee3-f75c64c1cc85"
   },
   "outputs": [],
   "source": [
    "print('The first sample group has this many analyses :',len(ages[0]))"
   ]
  },
  {
   "cell_type": "markdown",
   "metadata": {
    "id": "PKEdpm0nwofN"
   },
   "source": [
    "## Plot Detrital Age Distributions\n",
    "Run the following cell to execute a function that plots detrital age distributions using default options."
   ]
  },
  {
   "cell_type": "code",
   "execution_count": null,
   "metadata": {
    "colab": {
     "base_uri": "https://localhost:8080/",
     "height": 324
    },
    "id": "2TcHztq5uwjE",
    "outputId": "393b6cbb-1263-4570-b8bc-017d6ee606b6"
   },
   "outputs": [],
   "source": [
    "fig = dFunc.plotAll(sampleList, ages, errors, numGrains, labels)"
   ]
  },
  {
   "cell_type": "markdown",
   "metadata": {
    "id": "31olpHfZw0ib"
   },
   "source": [
    "The plotAll() function contains many optional keyword arguments. We will go through these optional arguments in the following cells.\n",
    "---\n",
    "The `whatToPlot` variable specifies whether to plot age distributions as cumulative, relative, or both. The default is `whatToPlot = 'both'` but we will choose `whatToPlot = 'relative'` instead"
   ]
  },
  {
   "cell_type": "code",
   "execution_count": null,
   "metadata": {
    "colab": {
     "base_uri": "https://localhost:8080/",
     "height": 179
    },
    "id": "y0k8nMaeuzsn",
    "outputId": "66e45a7b-377e-478a-ca4e-16ab82db9cb8"
   },
   "outputs": [],
   "source": [
    "whatToPlot = 'relative' # Options: cumulative, relative, or both\n",
    "\n",
    "fig = dFunc.plotAll(sampleList, ages, errors, numGrains, labels, whatToPlot=whatToPlot)"
   ]
  },
  {
   "cell_type": "markdown",
   "metadata": {
    "id": "gk2cfwiHxhgp"
   },
   "source": [
    "Similarly, setting `whatToPlot = 'cumulative'` results in only the cumulative age distribution being plotted.\n",
    "Notice that the optional keyword arguments are placed inside of the dFunc.plotAll() function. Defaults will be used if you do not specify."
   ]
  },
  {
   "cell_type": "code",
   "execution_count": null,
   "metadata": {
    "colab": {
     "base_uri": "https://localhost:8080/",
     "height": 293
    },
    "id": "OD5TthfFweB7",
    "outputId": "246b72a3-767e-47a8-931b-75c885fb9cd5"
   },
   "outputs": [],
   "source": [
    "whatToPlot = 'cumulative' # Options: cumulative, relative, or both\n",
    "\n",
    "fig = dFunc.plotAll(sampleList, ages, errors, numGrains, labels, whatToPlot=whatToPlot)"
   ]
  },
  {
   "cell_type": "markdown",
   "metadata": {
    "id": "-Big15TVzxvh"
   },
   "source": [
    "To adjust the x-axis, you can specify the plot starting and ending range via the `x1` and `x2` variables. Let's zoom in on the young (0-300 Ma) part of the plot where most of the data is."
   ]
  },
  {
   "cell_type": "code",
   "execution_count": null,
   "metadata": {
    "colab": {
     "base_uri": "https://localhost:8080/",
     "height": 179
    },
    "id": "Cm0AF45zz5Fm",
    "outputId": "704faa9a-b9e0-4285-d7c0-ec65c015b369"
   },
   "outputs": [],
   "source": [
    "# Enter plot options below\n",
    "whatToPlot = 'relative' # Options: cumulative, relative, or both\n",
    "\n",
    "# Specify the age range (Myr) that you want to plot\n",
    "x1 = 0\n",
    "x2 = 300\n",
    "\n",
    "fig = dFunc.plotAll(sampleList, ages, errors, numGrains, labels, whatToPlot=whatToPlot, x1=x1, x2=x2)"
   ]
  },
  {
   "cell_type": "markdown",
   "metadata": {
    "id": "H6pjeKHXyF_A"
   },
   "source": [
    "There are two ways of plotting relative age distributions in detritalPy. (1) If `separateSubplots = True`, each sample or sample group is plotted within its own \"subplot\". (2) If `separateSubplots = False`, then plots will be stacked on top of each other in a shared subplot (similar to how plots are made by the Arizona LaserChron Excel macros).\n"
   ]
  },
  {
   "cell_type": "markdown",
   "metadata": {
    "id": "-fNnO_npzOdL"
   },
   "source": [
    "If `separateSubplots = False`, then age distributions are always normalized (i.e., area under the curves is equal). If `separateSubplots = True`, then you have a choice of whether to normalize the plots, which can be set using `normPlots`.\n",
    "\n",
    "**Exercise:** Try making `separateSubplots` both `False` and `True` and compare the difference. When `separateSubplots = True`, try making `normPlots` both `False` and `True` and compare the difference."
   ]
  },
  {
   "cell_type": "code",
   "execution_count": null,
   "metadata": {
    "colab": {
     "base_uri": "https://localhost:8080/",
     "height": 359
    },
    "id": "OImu5DJxxBMh",
    "outputId": "1c5ad63e-5134-4340-f732-8d004d33d26e"
   },
   "outputs": [],
   "source": [
    "# Enter plot options below\n",
    "whatToPlot = 'relative' # Options: cumulative, relative, or both\n",
    "separateSubplots = False # Set to True to plot each relative age distribution in a separate subplot (allows histogram and pie)\n",
    "normPlots = False\n",
    "\n",
    "fig = dFunc.plotAll(sampleList, ages, errors, numGrains, labels, whatToPlot=whatToPlot, x1=x1, x2=x2, separateSubplots=separateSubplots, agebins=[1,2], normPlots=normPlots)"
   ]
  },
  {
   "cell_type": "markdown",
   "metadata": {
    "id": "uUmb49pb0SFL"
   },
   "source": [
    "Did you notice how the Butano Sandstone age distribution fills the entire subplot when `normPlots = False` but only extends about 2/3 up the subplot when `normPlots = True`? This is because the Point of Rocks Sandstone has a \"higher\" age probability peak near 100 Ma, and thus the Butano Sandstone age distribution must be more \"spread out\" for the area under both curves to be equal."
   ]
  },
  {
   "cell_type": "markdown",
   "metadata": {
    "id": "bPJHhdvj0-SV"
   },
   "source": [
    "The x-axis can be converted to a log scale by setting `plotLog = True`. If you do this, then `x1` cannot equal 0 (it will be set to 0.1 Ma by default, if you forget to change it from 0)."
   ]
  },
  {
   "cell_type": "code",
   "execution_count": null,
   "metadata": {
    "colab": {
     "base_uri": "https://localhost:8080/",
     "height": 566
    },
    "id": "tJ4rPltrxilW",
    "outputId": "f0394ce4-6736-45bc-b41e-072fd348936a"
   },
   "outputs": [],
   "source": [
    "# Enter plot options below\n",
    "whatToPlot = 'both' # Options: cumulative, relative, or both\n",
    "separateSubplots = False # Set to True to plot each relative age distribution in a separate subplot (allows histogram and pie)\n",
    "\n",
    "# Specify the age range (Myr) that you want to plot\n",
    "x1 = 10\n",
    "x2 = 3000\n",
    "plotLog = True\n",
    "\n",
    "fig = dFunc.plotAll(sampleList, ages, errors, numGrains, labels, whatToPlot=whatToPlot, separateSubplots=separateSubplots, \n",
    "                    agebins=[1,2], x1=x1, x2=x2, plotLog=plotLog)"
   ]
  },
  {
   "cell_type": "markdown",
   "metadata": {
    "id": "7XENZ3tL1WKM"
   },
   "source": [
    "Plot dimensions can also be adjusted using several variables: `w` for the width of the plot, `c` for the height of the CDF panel (if plotted), and `h` for the height of the relative panel (if `separateSubplots = False`)"
   ]
  },
  {
   "cell_type": "code",
   "execution_count": null,
   "metadata": {
    "colab": {
     "base_uri": "https://localhost:8080/",
     "height": 402
    },
    "id": "dgmsyulNxt_5",
    "outputId": "f1cd36a6-d216-45a7-ef59-473f663ab69a"
   },
   "outputs": [],
   "source": [
    "# Enter plot options below\n",
    "whatToPlot = 'both' # Options: cumulative, relative, or both\n",
    "separateSubplots = True # Set to True to plot each relative age distribution in a separate subplot (allows histogram and pie)\n",
    "\n",
    "# Specify the age range (Myr) that you want to plot\n",
    "x1 = 0\n",
    "x2 = 300\n",
    "plotLog = False\n",
    "\n",
    "# Relative distribution options\n",
    "normPlots = True # Will normalize the PDP/KDE if equals True (if separateSubplots is True)\n",
    "\n",
    "# Specify the plot dimensions\n",
    "w = 5 # width of the plot\n",
    "c = 4 # height of CDF panel\n",
    "h = 5 # height of the relative panel (only required if separateSubplots is False). Options: 'auto' or an integer\n",
    "\n",
    "fig = dFunc.plotAll(sampleList, ages, errors, numGrains, labels, whatToPlot=whatToPlot, separateSubplots=separateSubplots, \n",
    "                    agebins=[1,2], x1=x1, x2=x2, plotLog=plotLog, w=w, c=c, h=h, normPlots=normPlots)"
   ]
  },
  {
   "cell_type": "markdown",
   "metadata": {
    "id": "kKYz6HIk19_a"
   },
   "source": [
    "detritalPy can plot relative age distributions as PDPs, KDEs, and/or histograms. Set `plotKDE = True` to plot the KDE. The bandwidth (`bw`) can be set to a number (bandwidth in Myr) or several automatic bandwidth selection choices can be made:\n",
    "\n",
    "`bw = 'optimizedFixed'` uses the optimized (single-value) bandwidth selection of [Shimazaki an Shinomoto (2010)](https://pubmed.ncbi.nlm.nih.gov/19655238/), as implemented via the adaptiveKDE Python module (https://pypi.org/project/adaptivekde/). I have found that this option is a good choice for many datasets. *Warning: This algorithm is slow to run!*\n",
    "\n",
    "`bw = 'optimizedVariable'` uses a locally variable bandwidth ([Shimazaki an Shinomoto, 2010](https://pubmed.ncbi.nlm.nih.gov/19655238/)) as implemented via the adaptiveKDE Python module (https://pypi.org/project/adaptivekde/). I have found that this option provides inconsistent results for samples or sample groups with relatively few numbers of analyses. *Warning: This algorithm is very slow to run!*\n",
    "\n",
    "`bw = 'ISJ'` uses the Improved Sheather-Jones algorithm as implemented by KDEpy (https://kdepy.readthedocs.io/en/latest/). \n",
    "\n",
    "**Exercise:**  Try out several different bandwidth options and compare the results"
   ]
  },
  {
   "cell_type": "code",
   "execution_count": null,
   "metadata": {
    "colab": {
     "base_uri": "https://localhost:8080/",
     "height": 179
    },
    "id": "pVl8RB60yrlz",
    "outputId": "dcf0d497-e3d8-4086-82d3-ef463c8a1a04"
   },
   "outputs": [],
   "source": [
    "# Enter plot options below\n",
    "whatToPlot = 'relative' # Options: cumulative, relative, or both\n",
    "\n",
    "# Specify the plot dimensions\n",
    "w = 10 # width of the plot\n",
    "normPlots = False\n",
    "\n",
    "plotKDE = True # Set to True if want to plot KDE\n",
    "colorKDE = True # Will color KDE according to same coloration as used in CDF plotting\n",
    "bw = 'optimizedFixed' # Specify the KDE bandwidth. Options are 'optimizedFixed', 'optimizedVariable', 'ISJ', or a number (bandwidth in Myr)\n",
    "\n",
    "plotPDP = False # Set to True if want to plot PDP\n",
    "colorPDP = True # Will color PDP according to same coloration as used in CDF plotting\n",
    "\n",
    "plotHist = True # Set to True to plot a histogram (only available when separateSubplots is True)\n",
    "b = 5 # Specify the histogram bin size (Myr)\n",
    "\n",
    "fig = dFunc.plotAll(sampleList, ages, errors, numGrains, labels, whatToPlot=whatToPlot, separateSubplots=separateSubplots, \n",
    "                    agebins=[1,2], x1=x1, x2=x2, plotLog=plotLog, w=w, c=c, h=h, normPlots=normPlots, plotKDE=plotKDE, colorKDE=colorKDE,\n",
    "                    bw=bw, plotPDP=plotPDP, colorPDP=colorPDP, plotHist=plotHist, b=b)"
   ]
  },
  {
   "cell_type": "markdown",
   "metadata": {
    "id": "cuqo1kXd1kJM"
   },
   "source": [
    "There are several options for what type of cumulative distribution to plot. `plotCDF = True` for a \"raw\" CDF, `plotPDP = True` for a cumulative PDP, and `plotKDE = True` for a cumulative KDE. Note: if plotting a CKDE, you specify the bandwidth through the `bw` varaible (see above).\n",
    "\n",
    "**Exercise:** Compare the CDF with the CPDP and CKDE"
   ]
  },
  {
   "cell_type": "code",
   "execution_count": null,
   "metadata": {
    "colab": {
     "base_uri": "https://localhost:8080/",
     "height": 293
    },
    "id": "ohpNTVBVx7Dd",
    "outputId": "f70bc4e9-4d7f-4a0b-9501-197878bd7042"
   },
   "outputs": [],
   "source": [
    "# Enter plot options below\n",
    "whatToPlot = 'cumulative'\n",
    "\n",
    "# Cumulative distribution options\n",
    "plotCDF = False # Plot the CDF discretized at xdif interval\n",
    "plotCPDP = True # Plot the cumulative PDP\n",
    "plotCKDE = False # Plot the cumulative KDE\n",
    "\n",
    "fig = dFunc.plotAll(sampleList, ages, errors, numGrains, labels, whatToPlot=whatToPlot, separateSubplots=separateSubplots, \n",
    "                    agebins=[1,2], x1=x1, x2=x2, plotLog=plotLog, w=w, c=c, h=h, normPlots=normPlots, plotCDF=plotCDF,\n",
    "                    plotCPDP=plotCPDP, plotCKDE=plotCKDE)"
   ]
  },
  {
   "cell_type": "markdown",
   "metadata": {
    "id": "_nxmURN8iM57"
   },
   "source": [
    "If you want to see the actual data points + errors, you can set `plotAgesOnCDF = True`"
   ]
  },
  {
   "cell_type": "code",
   "execution_count": null,
   "metadata": {
    "colab": {
     "base_uri": "https://localhost:8080/",
     "height": 402
    },
    "id": "6RtBT0HW3gjE",
    "outputId": "38a428be-c981-4b50-f650-af4a5c42b0f0"
   },
   "outputs": [],
   "source": [
    "whatToPlot = 'both'\n",
    "plotAgesOnCDF = True\n",
    "\n",
    "fig = dFunc.plotAll(sampleList, ages, errors, numGrains, labels, whatToPlot=whatToPlot, separateSubplots=separateSubplots, \n",
    "                    agebins=[1,2], x1=x1, x2=x2, plotLog=plotLog, w=w, c=c, h=h, normPlots=normPlots, plotCDF=plotCDF,\n",
    "                    plotCPDP=plotCPDP, plotCKDE=plotCKDE, plotAgesOnCDF=plotAgesOnCDF)"
   ]
  },
  {
   "cell_type": "markdown",
   "metadata": {
    "id": "EMFB8OSPikye"
   },
   "source": [
    "Coloring beneath relative age distributions can help visualize patterns in the data. Both PDPs and KDEs can be colored by setting `colorKDEbyAge = True` or `colorPDPbyAge = True`. Note that the KDE and/or PDP will only be colored if `plotKDE = True` or `plotPDP = True`, respectively.\n",
    "\n",
    "There are two ways to specify the boundaries of different age ranges and their colors. The first is to set `agebins` to a list of numbers, where the numbers indicate the starting and ending points of the age categories. The `agebinsc` variable holds a list of the colors you want to use. Click [here](https://matplotlib.org/3.3.0/gallery/color/named_colors.html) for a list of color names compatible with matplotlib.\n",
    "\n",
    "**Exercise:** Try plotting both a colored PDP and KDE. Try adjusting the age bin boundaries and colors."
   ]
  },
  {
   "cell_type": "code",
   "execution_count": null,
   "metadata": {
    "colab": {
     "base_uri": "https://localhost:8080/",
     "height": 179
    },
    "id": "uyu7wc43zdUd",
    "outputId": "c0c74204-1cc1-4da9-aedb-37c2ba44e4b6"
   },
   "outputs": [],
   "source": [
    "whatToPlot = 'relative'\n",
    "\n",
    "plotPDP = True\n",
    "colorPDP = False\n",
    "colorPDPbyAge = True # Will color PDP according to age populations if set to True\n",
    "plotKDE = False\n",
    "colorKDE = False\n",
    "colorKDEbyAge = True # Will color KDE according to age populations if set to True\n",
    "bw = 2.5 # Specify the KDE bandwidth. Options are 'optimizedFixed', 'optimizedVariable', 'ISJ', or a number (bandwidth in Myr)\n",
    "\n",
    "plotPIE = True # Will plot a pie diagram (only available when separateSubplots is True)\n",
    "\n",
    "# Specify  age categories for colored KDE, PDP, and/or pie plots\n",
    "# Sharman et al. 2015 scheme\n",
    "agebins = [0, 23, 65, 85, 100, 135, 200, 300, 500, 4500]\n",
    "agebinsc = ['slategray','royalblue','gold','red','darkred','purple','navy','gray','saddlebrown']\n",
    "\n",
    "fig = dFunc.plotAll(sampleList, ages, errors, numGrains, labels, whatToPlot=whatToPlot, separateSubplots=separateSubplots, \n",
    "                    x1=x1, x2=x2, plotLog=plotLog, w=w, c=c, h=h, normPlots=normPlots, plotCDF=plotCDF,\n",
    "                    plotCPDP=plotCPDP, plotCKDE=plotCKDE, plotKDE=plotKDE, colorKDE=colorKDE, colorKDEbyAge=colorKDEbyAge,\n",
    "                    bw=bw, plotPDP=plotPDP, colorPDP=colorPDP, colorPDPbyAge=colorPDPbyAge, plotHist=plotHist, b=b,\n",
    "                    plotPIE=plotPIE, agebins=agebins, agebinsc=agebinsc)"
   ]
  },
  {
   "cell_type": "markdown",
   "metadata": {
    "id": "pr6thdx_kkZT"
   },
   "source": [
    "The other way to specify age categories is to set starting and ending values for each range, in the format shown below in the `agebins` variable. This allows one to allow gaps in the color plotting. *Note: it is possible to have overlapping age ranges, but this is not recommended.*"
   ]
  },
  {
   "cell_type": "code",
   "execution_count": null,
   "metadata": {
    "colab": {
     "base_uri": "https://localhost:8080/",
     "height": 179
    },
    "id": "ZXeZRlUK13AQ",
    "outputId": "b79da2de-7400-437d-a1ec-acdc16bfd2ff"
   },
   "outputs": [],
   "source": [
    "plotPDP = False\n",
    "colorPDPbyAge = False # Will color PDP according to age populations if set to True\n",
    "plotKDE = True\n",
    "colorKDE = False\n",
    "colorKDEbyAge = True # Will color KDE according to age populations if set to True\n",
    "bw = 2.5 # Specify the KDE bandwidth. Options are 'optimizedFixed', 'optimizedVariable', 'ISJ', or a number (bandwidth in Myr)\n",
    "\n",
    "plotPIE = True # Will plot a pie diagram (only available when separateSubplots is True)\n",
    "\n",
    "# Specify  age categories for colored KDE, PDP, and/or pie plots\n",
    "# Sharman et al. 2015 scheme\n",
    "agebins = [[40,50],[65,85],[90,100],[105,125],[145,175],[240,280]]\n",
    "agebinsc = ['royalblue','gold','red','darkred','purple','navy','gray','saddlebrown']\n",
    "\n",
    "fig = dFunc.plotAll(sampleList, ages, errors, numGrains, labels, whatToPlot=whatToPlot, separateSubplots=separateSubplots, \n",
    "                    x1=x1, x2=x2, plotLog=plotLog, w=w, c=c, h=h, normPlots=normPlots, plotCDF=plotCDF,\n",
    "                    plotCPDP=plotCPDP, plotCKDE=plotCKDE, plotKDE=plotKDE, colorKDE=colorKDE, colorKDEbyAge=colorKDEbyAge,\n",
    "                    bw=bw, plotPDP=plotPDP, colorPDP=colorPDP, colorPDPbyAge=colorPDPbyAge, plotHist=plotHist, b=b,\n",
    "                    plotPIE=plotPIE, agebins=agebins, agebinsc=agebinsc)"
   ]
  },
  {
   "cell_type": "markdown",
   "metadata": {
    "id": "vo7mrmiYlbcS"
   },
   "source": [
    "Set `plotColorBar = True` to plot age ranges as vertical colored bars that extent through the CDF and/or relative age plots."
   ]
  },
  {
   "cell_type": "code",
   "execution_count": null,
   "metadata": {
    "colab": {
     "base_uri": "https://localhost:8080/",
     "height": 402
    },
    "id": "QJ6K7Q6x2hWi",
    "outputId": "93fd690d-0631-4b55-a61a-8689c8746c34"
   },
   "outputs": [],
   "source": [
    "whatToPlot = 'both'\n",
    "colorKDEbyAge = False # Will color KDE according to age populations if set to True\n",
    "\n",
    "plotColorBar = True\n",
    "\n",
    "plotPIE = True # Will plot a pie diagram (only available when separateSubplots is True)\n",
    "\n",
    "# Specify  age categories for colored KDE, PDP, and/or pie plots\n",
    "# Sharman et al. 2015 scheme\n",
    "agebins = [[40,50],[65,85],[90,100],[105,125],[145,175],[240,280]]\n",
    "agebinsc = ['royalblue','gold','red','darkred','purple','navy','gray','saddlebrown']\n",
    "\n",
    "fig = dFunc.plotAll(sampleList, ages, errors, numGrains, labels, whatToPlot=whatToPlot, separateSubplots=separateSubplots, \n",
    "                    x1=x1, x2=x2, plotLog=plotLog, w=w, c=c, h=h, normPlots=normPlots, plotCDF=plotCDF,\n",
    "                    plotCPDP=plotCPDP, plotCKDE=plotCKDE, plotKDE=plotKDE, colorKDE=colorKDE, colorKDEbyAge=colorKDEbyAge,\n",
    "                    bw=bw, plotPDP=plotPDP, colorPDP=colorPDP, colorPDPbyAge=colorPDPbyAge, plotHist=plotHist, b=b,\n",
    "                    plotPIE=plotPIE, agebins=agebins, agebinsc=agebinsc, plotColorBar=plotColorBar)"
   ]
  },
  {
   "cell_type": "markdown",
   "metadata": {
    "id": "-1lYOjd6lq1K"
   },
   "source": [
    "detritalPy can also plot PDPs or KDEs as heatmaps where coloration corresponds to the maximum PDP value. I haven't seen many studies use this plotting option, but I'll leave it up to you whether it is useful or not! Check out [this link)[https://matplotlib.org/tutorials/colors/colormaps.html] for a list of available heatmap options.\n",
    "\n",
    "**Exercise:** Experiment between KDE and PDP heatmaps. Try a few different heatmap options to find one that you like. "
   ]
  },
  {
   "cell_type": "code",
   "execution_count": null,
   "metadata": {
    "colab": {
     "base_uri": "https://localhost:8080/",
     "height": 179
    },
    "id": "T5smy7C12uG3",
    "outputId": "c15262f1-a4ca-4247-ee6b-e4957802866d"
   },
   "outputs": [],
   "source": [
    "whatToPlot = 'relative'\n",
    "\n",
    "plotColorBar = False\n",
    "plotHist = False\n",
    "plotPIE = False\n",
    "plotKDE = True\n",
    "\n",
    "plotHeatMap = True\n",
    "heatMapType = 'KDE' # Options: 'PDP' or 'KDE'\n",
    "heatMap = 'inferno_r'\n",
    "\n",
    "fig = dFunc.plotAll(sampleList, ages, errors, numGrains, labels, whatToPlot=whatToPlot, separateSubplots=separateSubplots, \n",
    "                    x1=x1, x2=x2, plotLog=plotLog, w=w, c=c, h=h, normPlots=normPlots, plotCDF=plotCDF,\n",
    "                    plotCPDP=plotCPDP, plotCKDE=plotCKDE, plotKDE=plotKDE, colorKDE=colorKDE, colorKDEbyAge=colorKDEbyAge,\n",
    "                    bw=bw, plotPDP=plotPDP, colorPDP=colorPDP, colorPDPbyAge=colorPDPbyAge, plotHist=plotHist, b=b,\n",
    "                    plotPIE=plotPIE, agebins=agebins, agebinsc=agebinsc, plotColorBar=plotColorBar, plotHeatMap=plotHeatMap,\n",
    "                    heatMapType=heatMapType, heatMap=heatMap)"
   ]
  },
  {
   "cell_type": "markdown",
   "metadata": {
    "id": "UdtpYs14mk04"
   },
   "source": [
    "detritalPy can find age peaks using the [peakutils library](https://peakutils.readthedocs.io/en/latest/tutorial_a.html). Set `plotAgePeaks = True` and specify `agePeakOptions`. The distType can be either 'KDE' or 'PDP' (depending on whicih type of age distribution you want to find peaks on). `threshold` refers to a y-axis cutoff from which to exclude potential age peaks. `minDist` refers to an x-axis cutoff which relates to the proximity of adjacent age peaks. `minPeakSize` refers to the minimum peak height threshold for an\n",
    "age peak. The age of the age peak (Ma) will be plotted if `labels` is set to `True`.\n",
    "\n",
    "**Exercise:** Try adjusting the `agePeakOptions` and observe the result."
   ]
  },
  {
   "cell_type": "code",
   "execution_count": null,
   "metadata": {
    "colab": {
     "base_uri": "https://localhost:8080/",
     "height": 184
    },
    "id": "boCHh_fl1IdB",
    "outputId": "78387405-4b16-4811-b56a-36936be35ddf"
   },
   "outputs": [],
   "source": [
    "plotAgePeaks = True # Will identify and plot age peaks\n",
    "agePeakOptions = ['KDE', 0.05, 5, 2, True] # [distType, threshold, minDist, minPeakSize, labels]\n",
    "w = 20 # Width of the plot\n",
    "\n",
    "fig = dFunc.plotAll(sampleList, ages, errors, numGrains, labels, whatToPlot=whatToPlot, separateSubplots=separateSubplots, \n",
    "                    x1=x1, x2=x2, plotLog=plotLog, w=w, c=c, h=h, normPlots=normPlots, plotCDF=plotCDF,\n",
    "                    plotCPDP=plotCPDP, plotCKDE=plotCKDE, plotKDE=plotKDE, colorKDE=colorKDE, colorKDEbyAge=colorKDEbyAge,\n",
    "                    bw=bw, plotPDP=plotPDP, colorPDP=colorPDP, colorPDPbyAge=colorPDPbyAge, plotHist=plotHist, b=b,\n",
    "                    plotPIE=plotPIE, agebins=agebins, agebinsc=agebinsc, plotAgePeaks=plotAgePeaks, \n",
    "                    agePeakOptions=agePeakOptions)"
   ]
  },
  {
   "cell_type": "markdown",
   "metadata": {
    "id": "Tm61fvGEomzm"
   },
   "source": [
    "detritalPy allows one to split the x-axis in 1 or more places. This can be useful when trying to visualize both very young (precise) and very old (imprecise) ages. To split the axis, set `x1` and `x2` to a list with the beginning values of where to split the axis. The example below shows a split at 300 Ma. The `w` variable (width of the plot) but also be changed to a list. The first number gives the width of the pie plot column *and must equal 1*, and the remaining numbers give the width of the split axis portions.\n",
    "\n",
    "**Exercise:** Try changing the split axis options. Make 2 splits instead of just 1. Adjust the `w` variable and see what happens."
   ]
  },
  {
   "cell_type": "markdown",
   "metadata": {
    "id": "Vi8X4wikqVr-"
   },
   "source": [
    "Note: detritalPy automatically scales the y-axis of the plot such that "
   ]
  },
  {
   "cell_type": "code",
   "execution_count": null,
   "metadata": {
    "colab": {
     "base_uri": "https://localhost:8080/",
     "height": 181
    },
    "id": "mD2yZE-a0Tav",
    "outputId": "5028942a-d067-4a1d-924c-d6ae5c34a943"
   },
   "outputs": [],
   "source": [
    "# Specify the age range (Myr) that you want to plot\n",
    "x1 = [0,300]\n",
    "x2 = [300,2000]\n",
    "\n",
    "# Specify the plot dimensions\n",
    "w = [1,6,4] # width of the plot\n",
    "\n",
    "plotKDE = True\n",
    "colorKDE = False\n",
    "colorKDEbyAge = True\n",
    "bw = 'ISJ' # Specify the KDE bandwidth. Options are 'optimizedFixed', 'optimizedVariable', 'ISJ', or a number (bandwidth in Myr)\n",
    "\n",
    "plotHist = False\n",
    "b = [5,50]\n",
    "\n",
    "plotAgePeaks = False\n",
    "\n",
    "# Sharman et al. 2015 scheme\n",
    "agebins = [0, 23, 65, 85, 100, 135, 200, 300, 500, 4500]\n",
    "agebinsc = ['slategray','royalblue','gold','red','darkred','purple','navy','gray','saddlebrown']\n",
    "\n",
    "fig = dFunc.plotAll(sampleList, ages, errors, numGrains, labels, whatToPlot=whatToPlot, separateSubplots=separateSubplots, \n",
    "                    x1=x1, x2=x2, plotLog=plotLog, w=w, c=c, h=h, normPlots=normPlots, plotCDF=plotCDF,\n",
    "                    plotCPDP=plotCPDP, plotCKDE=plotCKDE, plotKDE=plotKDE, colorKDE=colorKDE, colorKDEbyAge=colorKDEbyAge,\n",
    "                    bw=bw, plotPDP=plotPDP, colorPDP=colorPDP, colorPDPbyAge=colorPDPbyAge, plotHist=plotHist, b=b,\n",
    "                    plotPIE=plotPIE, agebins=agebins, agebinsc=agebinsc, plotAgePeaks=plotAgePeaks, \n",
    "                    agePeakOptions=agePeakOptions)"
   ]
  },
  {
   "cell_type": "markdown",
   "metadata": {},
   "source": [
    "**Exercise:** Try plotting two KDEs with different bandwiths in conunction with the split axis options.\n",
    "\n",
    "Multiple bandwiths can be specified in a list, and the age axis location to switch from one KDE to the other is provided in the bw_x variable\n",
    "\n",
    "Requires v1.3.27 or later"
   ]
  },
  {
   "cell_type": "code",
   "execution_count": null,
   "metadata": {},
   "outputs": [],
   "source": [
    "# Specify the age range (Myr) that you want to plot\n",
    "x1 = [0,300]\n",
    "x2 = [300,2000]\n",
    "\n",
    "# Specify the plot dimensions\n",
    "w = [1,6,4] # width of the plot\n",
    "\n",
    "plotKDE = True\n",
    "colorKDE = False\n",
    "colorKDEbyAge = True\n",
    "bw = [2.5, 20] # Specify the KDE bandwidth. Options are 'optimizedFixed', 'optimizedVariable', 'ISJ', or a number (bandwidth in Myr)\n",
    "bw_x = [300]\n",
    "\n",
    "plotHist = False\n",
    "b = [5,50]\n",
    "\n",
    "plotAgePeaks = False\n",
    "\n",
    "# Sharman et al. 2015 scheme\n",
    "agebins = [0, 23, 65, 85, 100, 135, 200, 300, 500, 4500]\n",
    "agebinsc = ['slategray','royalblue','gold','red','darkred','purple','navy','gray','saddlebrown']\n",
    "\n",
    "fig = dFunc.plotAll(sampleList, ages, errors, numGrains, labels, whatToPlot=whatToPlot, separateSubplots=separateSubplots, \n",
    "                    x1=x1, x2=x2, plotLog=plotLog, w=w, c=c, h=h, normPlots=normPlots, plotCDF=plotCDF,\n",
    "                    plotCPDP=plotCPDP, plotCKDE=plotCKDE, plotKDE=plotKDE, colorKDE=colorKDE, colorKDEbyAge=colorKDEbyAge,\n",
    "                    bw=bw, plotPDP=plotPDP, colorPDP=colorPDP, colorPDPbyAge=colorPDPbyAge, plotHist=plotHist, b=b,\n",
    "                    plotPIE=plotPIE, agebins=agebins, agebinsc=agebinsc, plotAgePeaks=plotAgePeaks, \n",
    "                    agePeakOptions=agePeakOptions, bw_x=bw_x)"
   ]
  },
  {
   "cell_type": "markdown",
   "metadata": {
    "id": "ce-Gaw_LvIek"
   },
   "source": [
    "It's easy to filter data in detritalPy. Let's say you only want to look at the old ages, you can filter the younger ones out. The example below shows this."
   ]
  },
  {
   "cell_type": "code",
   "execution_count": null,
   "metadata": {
    "id": "RdGoHs6QvQuJ"
   },
   "outputs": [],
   "source": [
    "analyses_df = analyses_df.loc[(analyses_df['BestAge'] >300)]\n",
    "main_byid_df = dFunc.loadData(samples_df, analyses_df, ID_col='Sample_ID')"
   ]
  },
  {
   "cell_type": "markdown",
   "metadata": {
    "id": "yhiFjAI0vvV8"
   },
   "source": [
    "We then have to reselect the samples for the change to take effect"
   ]
  },
  {
   "cell_type": "code",
   "execution_count": null,
   "metadata": {
    "id": "ZGMo0SczvZnH"
   },
   "outputs": [],
   "source": [
    "sampleList = [(['POR-1','POR-2','POR-3'],'Point of Rocks Sandstone'),\n",
    "              (['BUT-5','BUT-4','BUT-3','BUT-2','BUT-1'],'Butano Sandstone')]\n",
    "\n",
    "\n",
    "#The code below returns a list of arrays used in subsequent calculations\n",
    "ages, errors, numGrains, labels = dFunc.sampleToData(sampleList,\n",
    "                                                     main_byid_df,\n",
    "                                                     sigma = '1sigma')"
   ]
  },
  {
   "cell_type": "markdown",
   "metadata": {
    "id": "BwKnGJy6vzWt"
   },
   "source": [
    "Finally, let's make the plot again, with the full set of options."
   ]
  },
  {
   "cell_type": "code",
   "execution_count": null,
   "metadata": {
    "colab": {
     "base_uri": "https://localhost:8080/",
     "height": 402
    },
    "id": "YBR2BhE5v60D",
    "outputId": "2c443912-4af2-457c-d4e7-56c7381acc8e"
   },
   "outputs": [],
   "source": [
    "# Enter plot options below\n",
    "whatToPlot = 'both' # Options: cumulative, relative, or both\n",
    "separateSubplots = True # Set to True to plot each relative age distribution in a separate subplot (allows histogram and pie)\n",
    "\n",
    "# Specify the age range (Myr) that you want to plot\n",
    "x1 = 0\n",
    "x2 = 3000\n",
    "plotLog = False # Set to True to plot the x-axis as a log scale\n",
    "\n",
    "# Specify the plot dimensions\n",
    "w = 10 # width of the plot\n",
    "c = 4 # height of CDF panel\n",
    "h = 5 # height of the relative panel (only required if separateSubplots is False). Options: 'auto' or an integer\n",
    "\n",
    "# Specify the interval (Myr) over which distributions are calculated\n",
    "xdif = 1 # Note: an interval of 1 Myr is recommended\n",
    "\n",
    "# Cumulative distribution options\n",
    "plotCDF = True # Plot the CDF discretized at xdif interval\n",
    "plotCPDP = False # Plot the cumulative PDP\n",
    "plotCKDE = False # Plot the cumulative KDE\n",
    "plotDKW = False # Plot the 95% confidence interval of the CDF (Dvoretsky-Kiefer-Wolfowitz inequality)\n",
    "\n",
    "# Relative distribution options\n",
    "normPlots = False # Will normalize the PDP/KDE if equals True (if separateSubplots is True)\n",
    "\n",
    "plotKDE = True # Set to True if want to plot KDE\n",
    "colorKDE = False # Will color KDE according to same coloration as used in CDF plotting\n",
    "colorKDEbyAge = True # Will color KDE according to age populations if set to True\n",
    "bw = 10 # Specify the KDE bandwidth. Options are 'optimizedFixed', 'optimizedVariable', or a number (bandwidth in Myr)\n",
    "bw_x = None # Change to a list with x-axis split locations (Ma) if using more than KDE (e.g., bw_x = [300])\n",
    "\n",
    "plotPDP = False # Set to True if want to plot PDP\n",
    "colorPDP = False # Will color PDP according to same coloration as used in CDF plotting\n",
    "colorPDPbyAge = False # Will color PDP according to age populations if set to True\n",
    "\n",
    "plotColorBar = False # Color age categories as vertical bars, can add white bars to create blank space between other colored bars\n",
    "\n",
    "plotHist = True # Set to True to plot a histogram (only available when separateSubplots is True)\n",
    "b = 50 # Specify the histogram bin size (Myr)\n",
    "\n",
    "plotPIE = False # Will plot a pie diagram (only available when separateSubplots is True)\n",
    "\n",
    "# Specify  age categories for colored KDE, PDP, and/or pie plots\n",
    "# Sharman et al. 2015 scheme\n",
    "agebins = [0, 23, 65, 85, 100, 135, 200, 300, 500, 4500]\n",
    "agebinsc = ['slategray','royalblue','gold','red','darkred','purple','navy','gray','saddlebrown']\n",
    "\n",
    "plotAgePeaks = False # Will identify and plot age peaks\n",
    "agePeakOptions = ['KDE', 0.05, 5, 2, True] # [distType, threshold, minDist, minPeakSize, labels]\n",
    "\n",
    "plotHeatMap = False\n",
    "heatMapType = 'KDE'\n",
    "heatMap = 'inferno_r'\n",
    "\n",
    "fig = dFunc.plotAll(sampleList, ages, errors, numGrains, labels, whatToPlot, separateSubplots, plotCDF, plotCPDP, plotCKDE, \n",
    "                    plotDKW, normPlots, plotKDE, colorKDE, colorKDEbyAge, plotPDP, colorPDP, colorPDPbyAge, plotColorBar, \n",
    "                    plotHist, plotLog, plotPIE, x1, x2, b, bw, xdif, agebins, agebinsc, w, c, h, plotAgePeaks, agePeakOptions,\n",
    "                    CDFlw=3, KDElw=1, PDPlw=1, plotHeatMap=plotHeatMap, heatMapType=heatMapType, heatMap=heatMap, bw_x=bw_x)"
   ]
  },
  {
   "cell_type": "markdown",
   "metadata": {
    "id": "QZf7sFEAwsYQ"
   },
   "source": [
    "# Application 1: Plotting detrital zircon U-Pb ages from the Bengal Fan\n",
    "Blum et al. (2018): Scientific Reports present a very nice dataset of detrital zircon U-Pb ages from the Bengal Fan. You can download the Open Access article [here](https://www.nature.com/articles/s41598-018-25819-5). These samples are well characterized (between 200-300 analyses per sample), and the grain ages span a wide range of geologic time, presenting some challenges with plotting. The exercise below is for you to try and decide how *you* would like to plot these data."
   ]
  },
  {
   "cell_type": "code",
   "execution_count": null,
   "metadata": {
    "id": "TGP-VblAYHCw"
   },
   "outputs": [],
   "source": [
    "dataToLoad = ['INPUT_Blum et al. (2018) Scientific Reports.xlsx']\n",
    "main_df, main_byid_df, samples_df, analyses_df = dFunc.loadDataExcel(dataToLoad)"
   ]
  },
  {
   "cell_type": "code",
   "execution_count": null,
   "metadata": {
    "colab": {
     "base_uri": "https://localhost:8080/",
     "height": 287
    },
    "id": "ISX7sZgKZapL",
    "outputId": "a8f61206-aa93-44e1-e24b-98c59b9f5067"
   },
   "outputs": [],
   "source": [
    "dFunc.plotSampleDist(main_byid_df, numBins=25)"
   ]
  },
  {
   "cell_type": "markdown",
   "metadata": {
    "id": "vJMcCS1yZHgz"
   },
   "source": [
    "This dataset has a very young analysis (0.6 Ma) with an error that is listed as 0 Ma. This is likely a rounding issue, but will result in problems later on if left in the dataset. For convenience, I will filter that analysis out and move on."
   ]
  },
  {
   "cell_type": "code",
   "execution_count": null,
   "metadata": {
    "id": "gd5MZbtEZG91"
   },
   "outputs": [],
   "source": [
    "analyses_df = analyses_df.loc[(analyses_df['BestAge_err'] >0)]\n",
    "main_byid_df = dFunc.loadData(samples_df, analyses_df)"
   ]
  },
  {
   "cell_type": "code",
   "execution_count": null,
   "metadata": {
    "colab": {
     "base_uri": "https://localhost:8080/",
     "height": 287
    },
    "id": "aI_-NPbWZcLT",
    "outputId": "427e8a65-aa53-49f4-a6c0-a1f18b9b85fa"
   },
   "outputs": [],
   "source": [
    "dFunc.plotSampleDist(main_byid_df, numBins=25)"
   ]
  },
  {
   "cell_type": "code",
   "execution_count": null,
   "metadata": {
    "colab": {
     "base_uri": "https://localhost:8080/",
     "height": 267
    },
    "id": "lFsxYgDpYp_o",
    "outputId": "e65d1200-7eb3-4f4d-b626-315da329b43b"
   },
   "outputs": [],
   "source": [
    "main_byid_df.head(1)"
   ]
  },
  {
   "cell_type": "markdown",
   "metadata": {
    "id": "UDcQMDM8YVQH"
   },
   "source": [
    "Each of the cells below has a different way of selecting samples - all the data grouped together, each sample listed individually, or samples grouped according to age"
   ]
  },
  {
   "cell_type": "code",
   "execution_count": null,
   "metadata": {
    "id": "UU4ti260YkFb"
   },
   "outputs": [],
   "source": [
    "# All samples, listed in approximate stratigraphic order\n",
    "sampleList = list(main_byid_df.Sample_ID)\n",
    "ages, errors, numGrains, labels = dFunc.sampleToData(sampleList, main_byid_df, sigma = '1sigma');"
   ]
  },
  {
   "cell_type": "code",
   "execution_count": null,
   "metadata": {
    "id": "Yah1o_ECyapF"
   },
   "outputs": [],
   "source": [
    "# All data lumped together into a single group\n",
    "sampleList = [(list(main_byid_df.Sample_ID),'Bengal Fan')]\n",
    "ages, errors, numGrains, labels = dFunc.sampleToData(sampleList, main_byid_df, sigma = '1sigma');"
   ]
  },
  {
   "cell_type": "code",
   "execution_count": null,
   "metadata": {
    "id": "NKukXDzzYT6i"
   },
   "outputs": [],
   "source": [
    "# Samples grouped by age\n",
    "sampleList = [(['M01_GR'],'Modern Ganges River'),\n",
    "              (['J03'],'Modern Brahmaputra River'),\n",
    "              (['U1451A_4H-6H','U1450A_6F-8F','U1452B_8F','U1453A_11F','U1451A_13F_combined','U1453A_26F'],'Mid-Pleis'),\n",
    "              (['U1452B_38F','U1453_32F','U1449A_29,30,31F_combined'],'Early-Ples'),\n",
    "              (['U1450A_70F','U1450A_78,79,80F','U1450_98F','U1450A_124F'],'Pliocene'),\n",
    "              (['U1451A_37F','U1451A_41F','U1451A_47,48,49F_pilot','U1451A_60F','U1451A_66F','U1451B_3X','U1451A_80F','U1451A_102F','U1451B_22R'],'Late Miocene'),\n",
    "              (['U1451B_41R','U1451B_51_54R','U1451B_62R'],'Early- to Mid-Miocene')]\n",
    "\n",
    "ages, errors, numGrains, labels = dFunc.sampleToData(sampleList, main_byid_df, sigma = '1sigma');"
   ]
  },
  {
   "cell_type": "markdown",
   "metadata": {
    "id": "wl839fXiZuoX"
   },
   "source": [
    "**Exercise:** Try adjusting keyword arguments to make a plot that best communicates detrital zircon U-Pb age distributions in this dataset. Consider all of your options:\n",
    "\n",
    "*   Separate subplots or not?\n",
    "*   Plot cumulative and/or relative age distributions?\n",
    "*   Change the x-axis scale? Split into subaxes? Plot as a log scale?\n",
    "*   Adjust plot dimensions?\n",
    "*   PDP vs KDE vs different KDE bandwidth options?\n",
    "*   Use a histogram or not?\n",
    "*   Color beneath the relative age distribution(s)? Plot a pie diagram?\n",
    "*   Plot age peaks?\n",
    "*   Plot a heat map?"
   ]
  },
  {
   "cell_type": "code",
   "execution_count": null,
   "metadata": {
    "colab": {
     "base_uri": "https://localhost:8080/",
     "height": 450
    },
    "id": "6sC7JZmoztr5",
    "outputId": "cb22cd29-6766-467e-e284-f2f74f9bdd66"
   },
   "outputs": [],
   "source": [
    "# Enter plot options below\n",
    "whatToPlot = 'relative' # Options: cumulative, relative, or both\n",
    "separateSubplots = True # Set to True to plot each relative age distribution in a separate subplot (allows histogram and pie)\n",
    "\n",
    "# Specify the age range (Myr) that you want to plot\n",
    "x1 = 0\n",
    "x2 = 4000\n",
    "plotLog = False # Set to True to plot the x-axis as a log scale\n",
    "\n",
    "# Specify the plot dimensions\n",
    "w = 10 # width of the plot\n",
    "h = 4 # height of CDF panel\n",
    "c = 5 # height of the relative panel (only required if separateSubplots is False). Options: 'auto' or an integer\n",
    "\n",
    "# Specify the interval (Myr) over which distributions are calculated\n",
    "xdif = 1 # Note: an interval of 1 Myr is recommended\n",
    "\n",
    "# Cumulative distribution options\n",
    "plotCDF = False # Plot the CDF discretized at xdif interval\n",
    "plotCPDP = False # Plot the cumulative PDP\n",
    "plotCKDE = False # Plot the cumulative KDE\n",
    "plotDKW = False # Plot the 95% confidence interval of the CDF (Dvoretsky-Kiefer-Wolfowitz inequality)\n",
    "\n",
    "# Relative distribution options\n",
    "normPlots = True # Will normalize the PDP/KDE if equals True (if separateSubplots is True)\n",
    "\n",
    "plotKDE = False # Set to True if want to plot KDE\n",
    "colorKDE = False # Will color KDE according to same coloration as used in CDF plotting\n",
    "colorKDEbyAge = True # Will color KDE according to age populations if set to True\n",
    "bw = 'ISJ' # Specify the KDE bandwidth. Options are 'optimizedFixed', 'optimizedVariable', or a number (bandwidth in Myr)\n",
    "bw_x = None\n",
    "\n",
    "plotPDP = True # Set to True if want to plot PDP\n",
    "colorPDP = False # Will color PDP according to same coloration as used in CDF plotting\n",
    "colorPDPbyAge = False # Will color PDP according to age populations if set to True\n",
    "\n",
    "plotColorBar = False # Color age categories as vertical bars, can add white bars to create blank space between other colored bars\n",
    "\n",
    "plotHist = False # Set to True to plot a histogram (only available when separateSubplots is True)\n",
    "b = 50 # Specify the histogram bin size (Myr)\n",
    "\n",
    "plotPIE = False # Will plot a pie diagram (only available when separateSubplots is True)\n",
    "\n",
    "# Specify  age categories for colored KDE, PDP, and/or pie plots\n",
    "# Sharman et al. 2015 scheme\n",
    "agebins = [0, 23, 65, 85, 100, 135, 200, 300, 500, 4500]\n",
    "agebinsc = ['slategray','royalblue','gold','red','darkred','purple','navy','gray','saddlebrown']\n",
    "\n",
    "plotAgePeaks = False # Will identify and plot age peaks\n",
    "agePeakOptions = ['KDE', 0.05, 5, 2, True] # [distType, threshold, minDist, minPeakSize, labels]\n",
    "\n",
    "plotHeatMap = False\n",
    "heatMapType = 'PDP'\n",
    "heatMap = 'Reds'\n",
    "\n",
    "fig = dFunc.plotAll(sampleList, ages, errors, numGrains, labels, whatToPlot, separateSubplots, plotCDF, plotCPDP, plotCKDE, \n",
    "                    plotDKW, normPlots, plotKDE, colorKDE, colorKDEbyAge, plotPDP, colorPDP, colorPDPbyAge, plotColorBar, \n",
    "                    plotHist, plotLog, plotPIE, x1, x2, b, bw, xdif, agebins, agebinsc, w, c, h, plotAgePeaks, agePeakOptions,\n",
    "                    CDFlw=3, KDElw=1, PDPlw=1, plotHeatMap=plotHeatMap, heatMapType=heatMapType, heatMap=heatMap, bw_x=bw_x)"
   ]
  },
  {
   "cell_type": "code",
   "execution_count": null,
   "metadata": {
    "colab": {
     "base_uri": "https://localhost:8080/",
     "height": 17
    },
    "id": "hT-byCzZbSUG",
    "outputId": "b11352c6-4890-400a-c526-56a50e22b269"
   },
   "outputs": [],
   "source": [
    "pathlib.Path('Output').mkdir(parents=True, exist_ok=True) # Recursively creates the directory and does not raise an exception if the directory already exists \n",
    "fig.savefig('Output/DZageDistributions_Blum_etal_2018.pdf')"
   ]
  },
  {
   "cell_type": "markdown",
   "metadata": {},
   "source": [
    "Want to share your plot with the group? Please visit this [shared Google Presentation](https://docs.google.com/presentation/d/1k-oNKAyb7p4XAE4dXOvoDgEFgQ6amyDn/edit?usp=sharing) and paste your plot!"
   ]
  },
  {
   "cell_type": "markdown",
   "metadata": {
    "id": "6QA8o2vGmFTY"
   },
   "source": [
    "# Application 2: Plotting detrital zircon U-Pb ages from the Colorado Plateau, USA\n",
    "Gehrels et al. (2020): Gchron includes a dataset of detrital zircon U-Pb ages from drill core taken from Petrified Forest National Park (Permian-Triassic). You can download the Open Access article [here](https://gchron.copernicus.org/articles/2/257/2020/). This dataset illustrates some challenges with plotting data that contain both a young (precise) and old (imprecise) age models. In particular, the abundance of Triassic ages, corresponding to Cordilleran arc vocalnism, is highly variable in this dataset. The exercise below is for you to try and decide how *you* would like to plot these data."
   ]
  },
  {
   "cell_type": "code",
   "execution_count": null,
   "metadata": {
    "id": "ZyVYYrR0rLIo"
   },
   "outputs": [],
   "source": [
    "dataToLoad = ['INPUT_Gehrels et al. (2020) GChron.xlsx']\n",
    "main_df, main_byid_df, samples_df, analyses_df = dFunc.loadDataExcel(dataToLoad)"
   ]
  },
  {
   "cell_type": "code",
   "execution_count": null,
   "metadata": {
    "colab": {
     "base_uri": "https://localhost:8080/",
     "height": 287
    },
    "id": "oQli1Lj1rW1L",
    "outputId": "bb419b5f-9e24-4943-aeae-16f0b33b2969"
   },
   "outputs": [],
   "source": [
    "dFunc.plotSampleDist(main_byid_df, numBins=25)"
   ]
  },
  {
   "cell_type": "code",
   "execution_count": null,
   "metadata": {
    "id": "UPPa6I-vrlsK"
   },
   "outputs": [],
   "source": [
    "# All samples, listed in approximate stratigraphic order\n",
    "sampleList = list(main_byid_df.Sample_ID)\n",
    "ages, errors, numGrains, labels = dFunc.sampleToData(sampleList, main_byid_df, sigma = '1sigma');"
   ]
  },
  {
   "cell_type": "code",
   "execution_count": null,
   "metadata": {
    "id": "4YQtju1lrlsN"
   },
   "outputs": [],
   "source": [
    "# All data lumped together into a single group\n",
    "sampleList = [(list(main_byid_df.Sample_ID),'Colorado Plateau - Permian to Triassic')]\n",
    "ages, errors, numGrains, labels = dFunc.sampleToData(sampleList, main_byid_df, sigma = '1sigma');"
   ]
  },
  {
   "cell_type": "code",
   "execution_count": null,
   "metadata": {
    "id": "i6d4yKEFrlsP"
   },
   "outputs": [],
   "source": [
    "# Samples grouped by unit\n",
    "\n",
    "sampleList = [(['52-2','66-1'],'Chinle - Petrified Forest (Black Forest Bed'),\n",
    "              (['84-2','92-2','104-3','116-1','131-2'],'Chinle - Petrified Forest'),\n",
    "              (['158-2','169-1','177-1','182-1','188-2','195-2'],'Chinle - Sonsela (upper)'),\n",
    "              (['196-3','201-1','210-1','215-2','227-3','243-3'],'Chinle - Sonsela (lower'),\n",
    "              (['261-1','287-2','297-2'],'Chinle - Blue Mesa'),\n",
    "              (['305-2'],'Chinle - Mesa Redondo'),\n",
    "              (['319-2','327-2','335-1','349-3'],'Moenkopi - Holbrook'),\n",
    "              (['383-2'],'Moenkopi(?) - Wupatki(?)'),\n",
    "              (['390-1'],'Coconino')]\n",
    "\n",
    "ages, errors, numGrains, labels = dFunc.sampleToData(sampleList, main_byid_df, sigma = '1sigma');"
   ]
  },
  {
   "cell_type": "code",
   "execution_count": null,
   "metadata": {
    "colab": {
     "base_uri": "https://localhost:8080/",
     "height": 342
    },
    "id": "GD-87R2ns0mC",
    "outputId": "5915ed77-58e9-4903-a20a-23301f90daa1"
   },
   "outputs": [],
   "source": [
    "# Enter plot options below\n",
    "whatToPlot = 'relative' # Options: cumulative, relative, or both\n",
    "separateSubplots = False # Set to True to plot each relative age distribution in a separate subplot (allows histogram and pie)\n",
    "\n",
    "# Specify the age range (Myr) that you want to plot\n",
    "x1 = 0\n",
    "x2 = 4000\n",
    "plotLog = False # Set to True to plot the x-axis as a log scale\n",
    "\n",
    "# Specify the plot dimensions\n",
    "w = 10 # width of the plot\n",
    "h = 4 # height of CDF panel\n",
    "h = 5 # height of the relative panel (only required if separateSubplots is False). Options: 'auto' or an integer\n",
    "\n",
    "# Specify the interval (Myr) over which distributions are calculated\n",
    "xdif = 1 # Note: an interval of 1 Myr is recommended\n",
    "\n",
    "# Cumulative distribution options\n",
    "plotCDF = False # Plot the CDF discretized at xdif interval\n",
    "plotCPDP = False # Plot the cumulative PDP\n",
    "plotCKDE = False # Plot the cumulative KDE\n",
    "plotDKW = False # Plot the 95% confidence interval of the CDF (Dvoretsky-Kiefer-Wolfowitz inequality)\n",
    "\n",
    "# Relative distribution options\n",
    "normPlots = True # Will normalize the PDP/KDE if equals True (if separateSubplots is True)\n",
    "\n",
    "plotKDE = False # Set to True if want to plot KDE\n",
    "colorKDE = False # Will color KDE according to same coloration as used in CDF plotting\n",
    "colorKDEbyAge = True # Will color KDE according to age populations if set to True\n",
    "bw = 'optimizedFixed' # Specify the KDE bandwidth. Options are 'optimizedFixed', 'optimizedVariable', or a number (bandwidth in Myr)\n",
    "\n",
    "plotPDP = True # Set to True if want to plot PDP\n",
    "colorPDP = False # Will color PDP according to same coloration as used in CDF plotting\n",
    "colorPDPbyAge = False # Will color PDP according to age populations if set to True\n",
    "\n",
    "plotColorBar = False # Color age categories as vertical bars, can add white bars to create blank space between other colored bars\n",
    "\n",
    "plotHist = False # Set to True to plot a histogram (only available when separateSubplots is True)\n",
    "b = 50 # Specify the histogram bin size (Myr)\n",
    "\n",
    "plotPIE = False # Will plot a pie diagram (only available when separateSubplots is True)\n",
    "\n",
    "# Specify  age categories for colored KDE, PDP, and/or pie plots\n",
    "# Sharman et al. 2015 scheme\n",
    "agebins = [0, 23, 65, 85, 100, 135, 200, 300, 500, 4500]\n",
    "agebinsc = ['slategray','royalblue','gold','red','darkred','purple','navy','gray','saddlebrown']\n",
    "\n",
    "plotAgePeaks = False # Will identify and plot age peaks\n",
    "agePeakOptions = ['KDE', 0.05, 5, 2, True] # [distType, threshold, minDist, minPeakSize, labels]\n",
    "\n",
    "plotHeatMap = False\n",
    "heatMapType = 'PDP'\n",
    "heatMap = 'Reds'\n",
    "\n",
    "fig = dFunc.plotAll(sampleList, ages, errors, numGrains, labels, whatToPlot, separateSubplots, plotCDF, plotCPDP, plotCKDE, \n",
    "                    plotDKW, normPlots, plotKDE, colorKDE, colorKDEbyAge, plotPDP, colorPDP, colorPDPbyAge, plotColorBar, \n",
    "                    plotHist, plotLog, plotPIE, x1, x2, b, bw, xdif, agebins, agebinsc, w, c, h, plotAgePeaks, agePeakOptions,\n",
    "                    CDFlw=3, KDElw=1, PDPlw=1, plotHeatMap=plotHeatMap, heatMapType=heatMapType, heatMap=heatMap)"
   ]
  },
  {
   "cell_type": "code",
   "execution_count": null,
   "metadata": {},
   "outputs": [],
   "source": [
    "pathlib.Path('Output').mkdir(parents=True, exist_ok=True) # Recursively creates the directory and does not raise an exception if the directory already exists \n",
    "fig.savefig('Output/DZageDistributions_Gehrels_etal_2020.pdf')"
   ]
  },
  {
   "cell_type": "markdown",
   "metadata": {},
   "source": [
    "Want to share your plot with the group? Please visit this [shared Google Presentation](https://docs.google.com/presentation/d/11OiSxgh7iv81ul8MnfzE7VWm4A0hPwhDBfVIVQh93uQ/edit?usp=sharing) and paste your plot!"
   ]
  },
  {
   "cell_type": "markdown",
   "metadata": {
    "id": "aqo1EGIDfUnR"
   },
   "source": [
    "**Bonus:** If you're satisfied with the plot(s) you've made, and we still have time, then why not try your hand at Multi-Dimensional Scaling (which will be covered in more detail later)."
   ]
  },
  {
   "cell_type": "markdown",
   "metadata": {
    "id": "i5F-tmJ5fpg4"
   },
   "source": [
    "First, run the model. Note that this may take a while, depending on the number of options chosen. By default `metric=False` and `n_init='metric'` meaning that non-metric MDS is used with the results from metric MDS as a starting configuration. Refer to the [sci-kit learn](https://scikit-learn.org/stable/modules/generated/sklearn.manifold.MDS.html) documentation for more information."
   ]
  },
  {
   "cell_type": "code",
   "execution_count": null,
   "metadata": {
    "id": "FWpWc3cveDI6"
   },
   "outputs": [],
   "source": [
    "model = dFunc.MDS_class(ages, errors, labels, sampleList, metric=False, criteria='Vmax', bw='optimizedFixed', n_init='metric', \n",
    "                        max_iter=1000, x1=0, x2=4500, xdif=1, min_dim=1, max_dim=3, dim=2)"
   ]
  },
  {
   "cell_type": "markdown",
   "metadata": {
    "id": "I2XP2RHBgRrk"
   },
   "source": [
    "After the model has been run, a number of figures can be generated, in any order.\n",
    "\n",
    "The QQ matrix plots each sample CDF against the others. A perfect match falls along the dashed line. *Note: This is not recommended for large datasets (e.g., >>30 samples or sample groups)*"
   ]
  },
  {
   "cell_type": "code",
   "execution_count": null,
   "metadata": {
    "colab": {
     "base_uri": "https://localhost:8080/",
     "height": 731
    },
    "id": "KZvGu__neHtC",
    "outputId": "edce9aa3-e38f-417a-8eeb-5c50044c5cc7"
   },
   "outputs": [],
   "source": [
    "model.QQplot(figsize=(12,12), savePlot=False, fileName='QQplot.pdf', halfMatrix=True)"
   ]
  },
  {
   "cell_type": "markdown",
   "metadata": {
    "id": "9JrlmhgYgbAC"
   },
   "source": [
    "A heatmap of the sample dissimilarity matrix gives an indication of the data that is going into the MDS algorithm. (The default is to use the Vmax, which will be discussed later in the afternoon)."
   ]
  },
  {
   "cell_type": "code",
   "execution_count": null,
   "metadata": {
    "colab": {
     "base_uri": "https://localhost:8080/",
     "height": 995
    },
    "id": "toMCZcI4eL7N",
    "outputId": "4e921b41-2aeb-45af-ab76-150a0c3d2f41"
   },
   "outputs": [],
   "source": [
    "model.heatMap(figsize=(10,10), savePlot=False, fileName='HeatMapPlot.pdf', plotValues=True,\n",
    "              plotType='dissimilarity', fontsize=10)"
   ]
  },
  {
   "cell_type": "markdown",
   "metadata": {
    "id": "5jdCsVKJgpKE"
   },
   "source": [
    "By setting the keyword argument `plotType='distance'`, we can plot the Euclidean distance between sample pairs on the MDS plot. There should be a general correlation with the heat map above, as samples that are more different should be farther apart."
   ]
  },
  {
   "cell_type": "code",
   "execution_count": null,
   "metadata": {
    "colab": {
     "base_uri": "https://localhost:8080/",
     "height": 989
    },
    "id": "slHtLHPFeUrT",
    "outputId": "9271afd1-a7b5-4326-d63d-512f561ea284"
   },
   "outputs": [],
   "source": [
    "model.heatMap(figsize=(10,10), savePlot=False, fileName='HeatMapPlot.pdf', plotValues=True, plotType='distance', fontsize=10)"
   ]
  },
  {
   "cell_type": "markdown",
   "metadata": {
    "id": "LEPuas9Ig4Ra"
   },
   "source": [
    "A stress plot gives an indication of the goodness-of-fit and how this varies depending on how many dimensions are modeled"
   ]
  },
  {
   "cell_type": "code",
   "execution_count": null,
   "metadata": {
    "colab": {
     "base_uri": "https://localhost:8080/",
     "height": 444
    },
    "id": "DgYpdNnjemdE",
    "outputId": "af95e7ab-31e5-41f5-f073-8e2acb6eac01"
   },
   "outputs": [],
   "source": [
    "model.stressPlot(figsize=(6,6), savePlot=False, fileName='stressPlot.pdf', stressType='sklearn')"
   ]
  },
  {
   "cell_type": "markdown",
   "metadata": {
    "id": "FU12kwWVhBqx"
   },
   "source": [
    "A Shepard plot compares x-y distance on the MDS plot against the dissimilarity metric. Ideally, sample pairs that are far apart on the MDS plot (large distance) will also be the most dissimilar, and visa versa. The amount of scatter gives a sense of the stress value - a lot of scatter means that there's a lot of variance in how well distance on the MDS plot characterizes sample dissimilarity."
   ]
  },
  {
   "cell_type": "code",
   "execution_count": null,
   "metadata": {
    "colab": {
     "base_uri": "https://localhost:8080/",
     "height": 396
    },
    "id": "tH-3BZbuep5P",
    "outputId": "14d56319-163c-45ea-f5c9-e91865dde5b5"
   },
   "outputs": [],
   "source": [
    "model.shepardPlot(figsize=(6,6), savePlot=False, fileName='shepardPlot.pdf', plotOneToOneLine=False)"
   ]
  },
  {
   "cell_type": "markdown",
   "metadata": {
    "id": "2Eep6Ei5g6FN"
   },
   "source": [
    "The MDS plot is a depiction of sample similarity and dissimilarity (refer to Vermeesch, 2013: Chemical Geology for a more complete description)."
   ]
  },
  {
   "cell_type": "code",
   "execution_count": null,
   "metadata": {
    "colab": {
     "base_uri": "https://localhost:8080/",
     "height": 721
    },
    "id": "mXFmmxzSet6P",
    "outputId": "21619c39-7695-4891-860a-a276e9cbbc63"
   },
   "outputs": [],
   "source": [
    "model.MDSplot(figsize=(10,10), savePlot=False, fileName='MDSplot.pdf', plotLabels=True, equalAspect=False, \n",
    "              stressType='sklearn')"
   ]
  },
  {
   "cell_type": "markdown",
   "metadata": {
    "id": "Drg4wjd-hF2G"
   },
   "source": [
    "Samples can also be plotted as pie diagrams where bins correspond to different age categories. Note: You may have to revisit what values you used for the `agebins` and `agebinsc` variables."
   ]
  },
  {
   "cell_type": "code",
   "execution_count": null,
   "metadata": {
    "colab": {
     "base_uri": "https://localhost:8080/",
     "height": 721
    },
    "id": "G3AK0NK_e4CB",
    "outputId": "86d1fa78-6dea-4c7c-aa62-fccee5bc8160"
   },
   "outputs": [],
   "source": [
    "model.MDSplot(figsize=(10,10), savePlot=False, fileName='MDSplot.pdf', plotLabels=True, \n",
    "              plotPie=True, pieType='Age', pieSize=0.04, agebins=agebins, agebinsc=agebinsc, equalAspect=False)"
   ]
  },
  {
   "cell_type": "code",
   "execution_count": null,
   "metadata": {},
   "outputs": [],
   "source": []
  }
 ],
 "metadata": {
  "colab": {
   "collapsed_sections": [],
   "name": "detritalPy.ipynb",
   "provenance": []
  },
  "kernelspec": {
   "display_name": "Python 3",
   "language": "python",
   "name": "python3"
  },
  "language_info": {
   "codemirror_mode": {
    "name": "ipython",
    "version": 3
   },
   "file_extension": ".py",
   "mimetype": "text/x-python",
   "name": "python",
   "nbconvert_exporter": "python",
   "pygments_lexer": "ipython3",
   "version": "3.7.3"
  }
 },
 "nbformat": 4,
 "nbformat_minor": 4
}
